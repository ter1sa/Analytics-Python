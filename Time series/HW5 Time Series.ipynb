{
 "cells": [
  {
   "attachments": {},
   "cell_type": "markdown",
   "metadata": {},
   "source": [
    "# Financial Product Price\n",
    "Predict financial product price using technical analysis including trend analysis. You are to use time series model such as MA, Holt, Holt Winter, ARIMA, compose decompose to predict Dow's closing (either all the data or partial - cross section).\n",
    "\n",
    "Things to consider: Residual, Trend, Sesonality and also Stationary (Dicky Fuller Test)."
   ]
  },
  {
   "cell_type": "markdown",
   "metadata": {},
   "source": [
    "### Import Dataset"
   ]
  },
  {
   "cell_type": "code",
   "execution_count": 1,
   "metadata": {},
   "outputs": [
    {
     "data": {
      "text/html": [
       "<div>\n",
       "<style scoped>\n",
       "    .dataframe tbody tr th:only-of-type {\n",
       "        vertical-align: middle;\n",
       "    }\n",
       "\n",
       "    .dataframe tbody tr th {\n",
       "        vertical-align: top;\n",
       "    }\n",
       "\n",
       "    .dataframe thead th {\n",
       "        text-align: right;\n",
       "    }\n",
       "</style>\n",
       "<table border=\"1\" class=\"dataframe\">\n",
       "  <thead>\n",
       "    <tr style=\"text-align: right;\">\n",
       "      <th></th>\n",
       "      <th>Date</th>\n",
       "      <th>Open</th>\n",
       "      <th>High</th>\n",
       "      <th>Low</th>\n",
       "      <th>Close</th>\n",
       "      <th>Adj Close</th>\n",
       "      <th>Volume</th>\n",
       "    </tr>\n",
       "  </thead>\n",
       "  <tbody>\n",
       "    <tr>\n",
       "      <th>0</th>\n",
       "      <td>1985-01-29</td>\n",
       "      <td>1277.719971</td>\n",
       "      <td>1295.489990</td>\n",
       "      <td>1266.890015</td>\n",
       "      <td>1292.619995</td>\n",
       "      <td>1292.619995</td>\n",
       "      <td>13560000</td>\n",
       "    </tr>\n",
       "    <tr>\n",
       "      <th>1</th>\n",
       "      <td>1985-01-30</td>\n",
       "      <td>1297.369995</td>\n",
       "      <td>1305.099976</td>\n",
       "      <td>1278.930054</td>\n",
       "      <td>1287.880005</td>\n",
       "      <td>1287.880005</td>\n",
       "      <td>16820000</td>\n",
       "    </tr>\n",
       "    <tr>\n",
       "      <th>2</th>\n",
       "      <td>1985-01-31</td>\n",
       "      <td>1283.239990</td>\n",
       "      <td>1293.400024</td>\n",
       "      <td>1272.640015</td>\n",
       "      <td>1286.770020</td>\n",
       "      <td>1286.770020</td>\n",
       "      <td>14070000</td>\n",
       "    </tr>\n",
       "    <tr>\n",
       "      <th>3</th>\n",
       "      <td>1985-02-01</td>\n",
       "      <td>1276.939941</td>\n",
       "      <td>1286.109985</td>\n",
       "      <td>1269.770020</td>\n",
       "      <td>1277.719971</td>\n",
       "      <td>1277.719971</td>\n",
       "      <td>10980000</td>\n",
       "    </tr>\n",
       "    <tr>\n",
       "      <th>4</th>\n",
       "      <td>1985-02-04</td>\n",
       "      <td>1272.079956</td>\n",
       "      <td>1294.939941</td>\n",
       "      <td>1268.989990</td>\n",
       "      <td>1290.079956</td>\n",
       "      <td>1290.079956</td>\n",
       "      <td>11630000</td>\n",
       "    </tr>\n",
       "    <tr>\n",
       "      <th>...</th>\n",
       "      <td>...</td>\n",
       "      <td>...</td>\n",
       "      <td>...</td>\n",
       "      <td>...</td>\n",
       "      <td>...</td>\n",
       "      <td>...</td>\n",
       "      <td>...</td>\n",
       "    </tr>\n",
       "    <tr>\n",
       "      <th>8573</th>\n",
       "      <td>2019-02-04</td>\n",
       "      <td>25062.119141</td>\n",
       "      <td>25239.910156</td>\n",
       "      <td>24977.669922</td>\n",
       "      <td>25239.369141</td>\n",
       "      <td>25239.369141</td>\n",
       "      <td>298540000</td>\n",
       "    </tr>\n",
       "    <tr>\n",
       "      <th>8574</th>\n",
       "      <td>2019-02-05</td>\n",
       "      <td>25287.929688</td>\n",
       "      <td>25427.320313</td>\n",
       "      <td>25287.650391</td>\n",
       "      <td>25411.519531</td>\n",
       "      <td>25411.519531</td>\n",
       "      <td>310650000</td>\n",
       "    </tr>\n",
       "    <tr>\n",
       "      <th>8575</th>\n",
       "      <td>2019-02-06</td>\n",
       "      <td>25371.570313</td>\n",
       "      <td>25439.039063</td>\n",
       "      <td>25312.060547</td>\n",
       "      <td>25390.300781</td>\n",
       "      <td>25390.300781</td>\n",
       "      <td>247590000</td>\n",
       "    </tr>\n",
       "    <tr>\n",
       "      <th>8576</th>\n",
       "      <td>2019-02-07</td>\n",
       "      <td>25265.810547</td>\n",
       "      <td>25314.259766</td>\n",
       "      <td>25000.519531</td>\n",
       "      <td>25169.529297</td>\n",
       "      <td>25169.529297</td>\n",
       "      <td>295460000</td>\n",
       "    </tr>\n",
       "    <tr>\n",
       "      <th>8577</th>\n",
       "      <td>2019-02-08</td>\n",
       "      <td>25042.359375</td>\n",
       "      <td>25106.390625</td>\n",
       "      <td>24883.039063</td>\n",
       "      <td>25106.330078</td>\n",
       "      <td>25106.330078</td>\n",
       "      <td>248210000</td>\n",
       "    </tr>\n",
       "  </tbody>\n",
       "</table>\n",
       "<p>8578 rows × 7 columns</p>\n",
       "</div>"
      ],
      "text/plain": [
       "            Date          Open          High           Low         Close  \\\n",
       "0     1985-01-29   1277.719971   1295.489990   1266.890015   1292.619995   \n",
       "1     1985-01-30   1297.369995   1305.099976   1278.930054   1287.880005   \n",
       "2     1985-01-31   1283.239990   1293.400024   1272.640015   1286.770020   \n",
       "3     1985-02-01   1276.939941   1286.109985   1269.770020   1277.719971   \n",
       "4     1985-02-04   1272.079956   1294.939941   1268.989990   1290.079956   \n",
       "...          ...           ...           ...           ...           ...   \n",
       "8573  2019-02-04  25062.119141  25239.910156  24977.669922  25239.369141   \n",
       "8574  2019-02-05  25287.929688  25427.320313  25287.650391  25411.519531   \n",
       "8575  2019-02-06  25371.570313  25439.039063  25312.060547  25390.300781   \n",
       "8576  2019-02-07  25265.810547  25314.259766  25000.519531  25169.529297   \n",
       "8577  2019-02-08  25042.359375  25106.390625  24883.039063  25106.330078   \n",
       "\n",
       "         Adj Close     Volume  \n",
       "0      1292.619995   13560000  \n",
       "1      1287.880005   16820000  \n",
       "2      1286.770020   14070000  \n",
       "3      1277.719971   10980000  \n",
       "4      1290.079956   11630000  \n",
       "...            ...        ...  \n",
       "8573  25239.369141  298540000  \n",
       "8574  25411.519531  310650000  \n",
       "8575  25390.300781  247590000  \n",
       "8576  25169.529297  295460000  \n",
       "8577  25106.330078  248210000  \n",
       "\n",
       "[8578 rows x 7 columns]"
      ]
     },
     "execution_count": 1,
     "metadata": {},
     "output_type": "execute_result"
    }
   ],
   "source": [
    "import pandas as pd\n",
    "df = pd.read_csv(\"/Users/teresazhang/Documents/NTU/Y3S1/BC3409/Assignment/HW5/DJI 1985 to 2019.csv\")\n",
    "df"
   ]
  },
  {
   "cell_type": "markdown",
   "metadata": {},
   "source": [
    "## Using all the data to predict"
   ]
  },
  {
   "cell_type": "code",
   "execution_count": 2,
   "metadata": {},
   "outputs": [],
   "source": [
    "df = df.drop(['Date'], axis=1)"
   ]
  },
  {
   "cell_type": "code",
   "execution_count": 3,
   "metadata": {},
   "outputs": [],
   "source": [
    "df.iloc[:,0]=pd.to_numeric(df.iloc[:,0], errors=\"coerce\")"
   ]
  },
  {
   "cell_type": "code",
   "execution_count": 4,
   "metadata": {
    "scrolled": true
   },
   "outputs": [
    {
     "data": {
      "text/html": [
       "<div>\n",
       "<style scoped>\n",
       "    .dataframe tbody tr th:only-of-type {\n",
       "        vertical-align: middle;\n",
       "    }\n",
       "\n",
       "    .dataframe tbody tr th {\n",
       "        vertical-align: top;\n",
       "    }\n",
       "\n",
       "    .dataframe thead th {\n",
       "        text-align: right;\n",
       "    }\n",
       "</style>\n",
       "<table border=\"1\" class=\"dataframe\">\n",
       "  <thead>\n",
       "    <tr style=\"text-align: right;\">\n",
       "      <th></th>\n",
       "      <th>Open</th>\n",
       "      <th>High</th>\n",
       "      <th>Low</th>\n",
       "      <th>Close</th>\n",
       "      <th>Adj Close</th>\n",
       "      <th>Volume</th>\n",
       "    </tr>\n",
       "  </thead>\n",
       "  <tbody>\n",
       "    <tr>\n",
       "      <th>0</th>\n",
       "      <td>1277.719971</td>\n",
       "      <td>1295.489990</td>\n",
       "      <td>1266.890015</td>\n",
       "      <td>1292.619995</td>\n",
       "      <td>1292.619995</td>\n",
       "      <td>13560000</td>\n",
       "    </tr>\n",
       "    <tr>\n",
       "      <th>1</th>\n",
       "      <td>1297.369995</td>\n",
       "      <td>1305.099976</td>\n",
       "      <td>1278.930054</td>\n",
       "      <td>1287.880005</td>\n",
       "      <td>1287.880005</td>\n",
       "      <td>16820000</td>\n",
       "    </tr>\n",
       "    <tr>\n",
       "      <th>2</th>\n",
       "      <td>1283.239990</td>\n",
       "      <td>1293.400024</td>\n",
       "      <td>1272.640015</td>\n",
       "      <td>1286.770020</td>\n",
       "      <td>1286.770020</td>\n",
       "      <td>14070000</td>\n",
       "    </tr>\n",
       "    <tr>\n",
       "      <th>3</th>\n",
       "      <td>1276.939941</td>\n",
       "      <td>1286.109985</td>\n",
       "      <td>1269.770020</td>\n",
       "      <td>1277.719971</td>\n",
       "      <td>1277.719971</td>\n",
       "      <td>10980000</td>\n",
       "    </tr>\n",
       "    <tr>\n",
       "      <th>4</th>\n",
       "      <td>1272.079956</td>\n",
       "      <td>1294.939941</td>\n",
       "      <td>1268.989990</td>\n",
       "      <td>1290.079956</td>\n",
       "      <td>1290.079956</td>\n",
       "      <td>11630000</td>\n",
       "    </tr>\n",
       "    <tr>\n",
       "      <th>...</th>\n",
       "      <td>...</td>\n",
       "      <td>...</td>\n",
       "      <td>...</td>\n",
       "      <td>...</td>\n",
       "      <td>...</td>\n",
       "      <td>...</td>\n",
       "    </tr>\n",
       "    <tr>\n",
       "      <th>8573</th>\n",
       "      <td>25062.119141</td>\n",
       "      <td>25239.910156</td>\n",
       "      <td>24977.669922</td>\n",
       "      <td>25239.369141</td>\n",
       "      <td>25239.369141</td>\n",
       "      <td>298540000</td>\n",
       "    </tr>\n",
       "    <tr>\n",
       "      <th>8574</th>\n",
       "      <td>25287.929688</td>\n",
       "      <td>25427.320313</td>\n",
       "      <td>25287.650391</td>\n",
       "      <td>25411.519531</td>\n",
       "      <td>25411.519531</td>\n",
       "      <td>310650000</td>\n",
       "    </tr>\n",
       "    <tr>\n",
       "      <th>8575</th>\n",
       "      <td>25371.570313</td>\n",
       "      <td>25439.039063</td>\n",
       "      <td>25312.060547</td>\n",
       "      <td>25390.300781</td>\n",
       "      <td>25390.300781</td>\n",
       "      <td>247590000</td>\n",
       "    </tr>\n",
       "    <tr>\n",
       "      <th>8576</th>\n",
       "      <td>25265.810547</td>\n",
       "      <td>25314.259766</td>\n",
       "      <td>25000.519531</td>\n",
       "      <td>25169.529297</td>\n",
       "      <td>25169.529297</td>\n",
       "      <td>295460000</td>\n",
       "    </tr>\n",
       "    <tr>\n",
       "      <th>8577</th>\n",
       "      <td>25042.359375</td>\n",
       "      <td>25106.390625</td>\n",
       "      <td>24883.039063</td>\n",
       "      <td>25106.330078</td>\n",
       "      <td>25106.330078</td>\n",
       "      <td>248210000</td>\n",
       "    </tr>\n",
       "  </tbody>\n",
       "</table>\n",
       "<p>8578 rows × 6 columns</p>\n",
       "</div>"
      ],
      "text/plain": [
       "              Open          High           Low         Close     Adj Close  \\\n",
       "0      1277.719971   1295.489990   1266.890015   1292.619995   1292.619995   \n",
       "1      1297.369995   1305.099976   1278.930054   1287.880005   1287.880005   \n",
       "2      1283.239990   1293.400024   1272.640015   1286.770020   1286.770020   \n",
       "3      1276.939941   1286.109985   1269.770020   1277.719971   1277.719971   \n",
       "4      1272.079956   1294.939941   1268.989990   1290.079956   1290.079956   \n",
       "...            ...           ...           ...           ...           ...   \n",
       "8573  25062.119141  25239.910156  24977.669922  25239.369141  25239.369141   \n",
       "8574  25287.929688  25427.320313  25287.650391  25411.519531  25411.519531   \n",
       "8575  25371.570313  25439.039063  25312.060547  25390.300781  25390.300781   \n",
       "8576  25265.810547  25314.259766  25000.519531  25169.529297  25169.529297   \n",
       "8577  25042.359375  25106.390625  24883.039063  25106.330078  25106.330078   \n",
       "\n",
       "         Volume  \n",
       "0      13560000  \n",
       "1      16820000  \n",
       "2      14070000  \n",
       "3      10980000  \n",
       "4      11630000  \n",
       "...         ...  \n",
       "8573  298540000  \n",
       "8574  310650000  \n",
       "8575  247590000  \n",
       "8576  295460000  \n",
       "8577  248210000  \n",
       "\n",
       "[8578 rows x 6 columns]"
      ]
     },
     "execution_count": 4,
     "metadata": {},
     "output_type": "execute_result"
    }
   ],
   "source": [
    "df"
   ]
  },
  {
   "cell_type": "markdown",
   "metadata": {},
   "source": [
    "### Check for null values"
   ]
  },
  {
   "cell_type": "code",
   "execution_count": 5,
   "metadata": {},
   "outputs": [
    {
     "data": {
      "text/plain": [
       "Open         False\n",
       "High         False\n",
       "Low          False\n",
       "Close        False\n",
       "Adj Close    False\n",
       "Volume       False\n",
       "dtype: bool"
      ]
     },
     "execution_count": 5,
     "metadata": {},
     "output_type": "execute_result"
    }
   ],
   "source": [
    "df.isnull().any()"
   ]
  },
  {
   "cell_type": "code",
   "execution_count": 6,
   "metadata": {},
   "outputs": [],
   "source": [
    "df = df.interpolate()\n",
    "column_name=df.columns[0]"
   ]
  },
  {
   "cell_type": "code",
   "execution_count": 7,
   "metadata": {},
   "outputs": [
    {
     "data": {
      "text/html": [
       "<div>\n",
       "<style scoped>\n",
       "    .dataframe tbody tr th:only-of-type {\n",
       "        vertical-align: middle;\n",
       "    }\n",
       "\n",
       "    .dataframe tbody tr th {\n",
       "        vertical-align: top;\n",
       "    }\n",
       "\n",
       "    .dataframe thead th {\n",
       "        text-align: right;\n",
       "    }\n",
       "</style>\n",
       "<table border=\"1\" class=\"dataframe\">\n",
       "  <thead>\n",
       "    <tr style=\"text-align: right;\">\n",
       "      <th></th>\n",
       "      <th>Open</th>\n",
       "      <th>High</th>\n",
       "      <th>Low</th>\n",
       "      <th>Close</th>\n",
       "      <th>Adj Close</th>\n",
       "      <th>Volume</th>\n",
       "    </tr>\n",
       "  </thead>\n",
       "  <tbody>\n",
       "    <tr>\n",
       "      <th>count</th>\n",
       "      <td>8578.000000</td>\n",
       "      <td>8578.000000</td>\n",
       "      <td>8578.000000</td>\n",
       "      <td>8578.000000</td>\n",
       "      <td>8578.000000</td>\n",
       "      <td>8.578000e+03</td>\n",
       "    </tr>\n",
       "    <tr>\n",
       "      <th>mean</th>\n",
       "      <td>9386.191224</td>\n",
       "      <td>9443.865701</td>\n",
       "      <td>9326.932124</td>\n",
       "      <td>9388.786163</td>\n",
       "      <td>9388.786163</td>\n",
       "      <td>1.356680e+08</td>\n",
       "    </tr>\n",
       "    <tr>\n",
       "      <th>std</th>\n",
       "      <td>5962.912368</td>\n",
       "      <td>5988.153418</td>\n",
       "      <td>5935.948227</td>\n",
       "      <td>5963.358006</td>\n",
       "      <td>5963.358006</td>\n",
       "      <td>1.191448e+08</td>\n",
       "    </tr>\n",
       "    <tr>\n",
       "      <th>min</th>\n",
       "      <td>1243.709961</td>\n",
       "      <td>1251.209961</td>\n",
       "      <td>1235.530029</td>\n",
       "      <td>1242.050049</td>\n",
       "      <td>1242.050049</td>\n",
       "      <td>2.530000e+06</td>\n",
       "    </tr>\n",
       "    <tr>\n",
       "      <th>25%</th>\n",
       "      <td>3546.774963</td>\n",
       "      <td>3557.847534</td>\n",
       "      <td>3530.810059</td>\n",
       "      <td>3547.507508</td>\n",
       "      <td>3547.507508</td>\n",
       "      <td>2.598000e+07</td>\n",
       "    </tr>\n",
       "    <tr>\n",
       "      <th>50%</th>\n",
       "      <td>9824.370117</td>\n",
       "      <td>9902.729981</td>\n",
       "      <td>9756.330078</td>\n",
       "      <td>9824.479981</td>\n",
       "      <td>9824.479981</td>\n",
       "      <td>1.006000e+08</td>\n",
       "    </tr>\n",
       "    <tr>\n",
       "      <th>75%</th>\n",
       "      <td>12381.085205</td>\n",
       "      <td>12449.250244</td>\n",
       "      <td>12302.404541</td>\n",
       "      <td>12381.222412</td>\n",
       "      <td>12381.222412</td>\n",
       "      <td>2.227400e+08</td>\n",
       "    </tr>\n",
       "    <tr>\n",
       "      <th>max</th>\n",
       "      <td>26833.470703</td>\n",
       "      <td>26951.810547</td>\n",
       "      <td>26789.080078</td>\n",
       "      <td>26828.390625</td>\n",
       "      <td>26828.390625</td>\n",
       "      <td>9.005100e+08</td>\n",
       "    </tr>\n",
       "  </tbody>\n",
       "</table>\n",
       "</div>"
      ],
      "text/plain": [
       "               Open          High           Low         Close     Adj Close  \\\n",
       "count   8578.000000   8578.000000   8578.000000   8578.000000   8578.000000   \n",
       "mean    9386.191224   9443.865701   9326.932124   9388.786163   9388.786163   \n",
       "std     5962.912368   5988.153418   5935.948227   5963.358006   5963.358006   \n",
       "min     1243.709961   1251.209961   1235.530029   1242.050049   1242.050049   \n",
       "25%     3546.774963   3557.847534   3530.810059   3547.507508   3547.507508   \n",
       "50%     9824.370117   9902.729981   9756.330078   9824.479981   9824.479981   \n",
       "75%    12381.085205  12449.250244  12302.404541  12381.222412  12381.222412   \n",
       "max    26833.470703  26951.810547  26789.080078  26828.390625  26828.390625   \n",
       "\n",
       "             Volume  \n",
       "count  8.578000e+03  \n",
       "mean   1.356680e+08  \n",
       "std    1.191448e+08  \n",
       "min    2.530000e+06  \n",
       "25%    2.598000e+07  \n",
       "50%    1.006000e+08  \n",
       "75%    2.227400e+08  \n",
       "max    9.005100e+08  "
      ]
     },
     "execution_count": 7,
     "metadata": {},
     "output_type": "execute_result"
    }
   ],
   "source": [
    "df.describe()"
   ]
  },
  {
   "cell_type": "code",
   "execution_count": 8,
   "metadata": {},
   "outputs": [],
   "source": [
    "n_row=len(df)\n",
    "train_row = int(0.8 * n_row)\n",
    "train = df[0:train_row]\n",
    "test = df[train_row:]"
   ]
  },
  {
   "cell_type": "code",
   "execution_count": 9,
   "metadata": {
    "scrolled": false
   },
   "outputs": [
    {
     "data": {
      "text/plain": [
       "<AxesSubplot:>"
      ]
     },
     "execution_count": 9,
     "metadata": {},
     "output_type": "execute_result"
    },
    {
     "data": {
      "image/png": "[encoded data removed]",
      "text/plain": [
       "<Figure size 432x288 with 1 Axes>"
      ]
     },
     "metadata": {
      "needs_background": "light"
     },
     "output_type": "display_data"
    },
    {
     "data": {
      "image/png": "[encoded data removed]",
      "text/plain": [
       "<Figure size 432x288 with 1 Axes>"
      ]
     },
     "metadata": {
      "needs_background": "light"
     },
     "output_type": "display_data"
    }
   ],
   "source": [
    "train.plot()\n",
    "test.plot()"
   ]
  },
  {
   "cell_type": "markdown",
   "metadata": {},
   "source": [
    "## Using only the Close column to predict"
   ]
  },
  {
   "cell_type": "code",
   "execution_count": 10,
   "metadata": {},
   "outputs": [],
   "source": [
    "df = df[['Close']]"
   ]
  },
  {
   "cell_type": "code",
   "execution_count": 11,
   "metadata": {},
   "outputs": [],
   "source": [
    "df.iloc[:,0]=pd.to_numeric(df.iloc[:,0], errors=\"coerce\")"
   ]
  },
  {
   "cell_type": "code",
   "execution_count": 12,
   "metadata": {
    "scrolled": false
   },
   "outputs": [
    {
     "data": {
      "text/html": [
       "<div>\n",
       "<style scoped>\n",
       "    .dataframe tbody tr th:only-of-type {\n",
       "        vertical-align: middle;\n",
       "    }\n",
       "\n",
       "    .dataframe tbody tr th {\n",
       "        vertical-align: top;\n",
       "    }\n",
       "\n",
       "    .dataframe thead th {\n",
       "        text-align: right;\n",
       "    }\n",
       "</style>\n",
       "<table border=\"1\" class=\"dataframe\">\n",
       "  <thead>\n",
       "    <tr style=\"text-align: right;\">\n",
       "      <th></th>\n",
       "      <th>Close</th>\n",
       "    </tr>\n",
       "  </thead>\n",
       "  <tbody>\n",
       "    <tr>\n",
       "      <th>0</th>\n",
       "      <td>1292.619995</td>\n",
       "    </tr>\n",
       "    <tr>\n",
       "      <th>1</th>\n",
       "      <td>1287.880005</td>\n",
       "    </tr>\n",
       "    <tr>\n",
       "      <th>2</th>\n",
       "      <td>1286.770020</td>\n",
       "    </tr>\n",
       "    <tr>\n",
       "      <th>3</th>\n",
       "      <td>1277.719971</td>\n",
       "    </tr>\n",
       "    <tr>\n",
       "      <th>4</th>\n",
       "      <td>1290.079956</td>\n",
       "    </tr>\n",
       "    <tr>\n",
       "      <th>...</th>\n",
       "      <td>...</td>\n",
       "    </tr>\n",
       "    <tr>\n",
       "      <th>8573</th>\n",
       "      <td>25239.369141</td>\n",
       "    </tr>\n",
       "    <tr>\n",
       "      <th>8574</th>\n",
       "      <td>25411.519531</td>\n",
       "    </tr>\n",
       "    <tr>\n",
       "      <th>8575</th>\n",
       "      <td>25390.300781</td>\n",
       "    </tr>\n",
       "    <tr>\n",
       "      <th>8576</th>\n",
       "      <td>25169.529297</td>\n",
       "    </tr>\n",
       "    <tr>\n",
       "      <th>8577</th>\n",
       "      <td>25106.330078</td>\n",
       "    </tr>\n",
       "  </tbody>\n",
       "</table>\n",
       "<p>8578 rows × 1 columns</p>\n",
       "</div>"
      ],
      "text/plain": [
       "             Close\n",
       "0      1292.619995\n",
       "1      1287.880005\n",
       "2      1286.770020\n",
       "3      1277.719971\n",
       "4      1290.079956\n",
       "...            ...\n",
       "8573  25239.369141\n",
       "8574  25411.519531\n",
       "8575  25390.300781\n",
       "8576  25169.529297\n",
       "8577  25106.330078\n",
       "\n",
       "[8578 rows x 1 columns]"
      ]
     },
     "execution_count": 12,
     "metadata": {},
     "output_type": "execute_result"
    }
   ],
   "source": [
    "df"
   ]
  },
  {
   "cell_type": "markdown",
   "metadata": {},
   "source": [
    "### Check for null values"
   ]
  },
  {
   "cell_type": "code",
   "execution_count": 13,
   "metadata": {},
   "outputs": [
    {
     "data": {
      "text/plain": [
       "Close    False\n",
       "dtype: bool"
      ]
     },
     "execution_count": 13,
     "metadata": {},
     "output_type": "execute_result"
    }
   ],
   "source": [
    "df.isnull().any()"
   ]
  },
  {
   "cell_type": "code",
   "execution_count": 14,
   "metadata": {},
   "outputs": [],
   "source": [
    "df = df.interpolate()\n",
    "column_name=df.columns[0]"
   ]
  },
  {
   "cell_type": "code",
   "execution_count": 15,
   "metadata": {},
   "outputs": [
    {
     "data": {
      "text/html": [
       "<div>\n",
       "<style scoped>\n",
       "    .dataframe tbody tr th:only-of-type {\n",
       "        vertical-align: middle;\n",
       "    }\n",
       "\n",
       "    .dataframe tbody tr th {\n",
       "        vertical-align: top;\n",
       "    }\n",
       "\n",
       "    .dataframe thead th {\n",
       "        text-align: right;\n",
       "    }\n",
       "</style>\n",
       "<table border=\"1\" class=\"dataframe\">\n",
       "  <thead>\n",
       "    <tr style=\"text-align: right;\">\n",
       "      <th></th>\n",
       "      <th>Close</th>\n",
       "    </tr>\n",
       "  </thead>\n",
       "  <tbody>\n",
       "    <tr>\n",
       "      <th>count</th>\n",
       "      <td>8578.000000</td>\n",
       "    </tr>\n",
       "    <tr>\n",
       "      <th>mean</th>\n",
       "      <td>9388.786163</td>\n",
       "    </tr>\n",
       "    <tr>\n",
       "      <th>std</th>\n",
       "      <td>5963.358006</td>\n",
       "    </tr>\n",
       "    <tr>\n",
       "      <th>min</th>\n",
       "      <td>1242.050049</td>\n",
       "    </tr>\n",
       "    <tr>\n",
       "      <th>25%</th>\n",
       "      <td>3547.507508</td>\n",
       "    </tr>\n",
       "    <tr>\n",
       "      <th>50%</th>\n",
       "      <td>9824.479981</td>\n",
       "    </tr>\n",
       "    <tr>\n",
       "      <th>75%</th>\n",
       "      <td>12381.222412</td>\n",
       "    </tr>\n",
       "    <tr>\n",
       "      <th>max</th>\n",
       "      <td>26828.390625</td>\n",
       "    </tr>\n",
       "  </tbody>\n",
       "</table>\n",
       "</div>"
      ],
      "text/plain": [
       "              Close\n",
       "count   8578.000000\n",
       "mean    9388.786163\n",
       "std     5963.358006\n",
       "min     1242.050049\n",
       "25%     3547.507508\n",
       "50%     9824.479981\n",
       "75%    12381.222412\n",
       "max    26828.390625"
      ]
     },
     "execution_count": 15,
     "metadata": {},
     "output_type": "execute_result"
    }
   ],
   "source": [
    "df.describe()"
   ]
  },
  {
   "cell_type": "code",
   "execution_count": 16,
   "metadata": {},
   "outputs": [],
   "source": [
    "n_row=len(df)\n",
    "train_row = int(0.8 * n_row)\n",
    "train = df[0:train_row]\n",
    "test = df[train_row:]"
   ]
  },
  {
   "cell_type": "code",
   "execution_count": 17,
   "metadata": {
    "scrolled": false
   },
   "outputs": [
    {
     "data": {
      "text/plain": [
       "<AxesSubplot:>"
      ]
     },
     "execution_count": 17,
     "metadata": {},
     "output_type": "execute_result"
    },
    {
     "data": {
      "image/png": "[encoded data removed]",
      "text/plain": [
       "<Figure size 432x288 with 1 Axes>"
      ]
     },
     "metadata": {
      "needs_background": "light"
     },
     "output_type": "display_data"
    },
    {
     "data": {
      "image/png": "[encoded data removed]",
      "text/plain": [
       "<Figure size 432x288 with 1 Axes>"
      ]
     },
     "metadata": {
      "needs_background": "light"
     },
     "output_type": "display_data"
    }
   ],
   "source": [
    "train.plot()\n",
    "test.plot()"
   ]
  },
  {
   "cell_type": "markdown",
   "metadata": {},
   "source": [
    "#### Dicky Fuller Test"
   ]
  },
  {
   "cell_type": "code",
   "execution_count": 18,
   "metadata": {},
   "outputs": [
    {
     "name": "stdout",
     "output_type": "stream",
     "text": [
      "0.9958475273672025\n"
     ]
    }
   ],
   "source": [
    "# Dicky fuller test to check stationary, the number is big, not stationary\n",
    "from statsmodels.tsa.stattools import adfuller\n",
    "\n",
    "dicky = adfuller(df)\n",
    "print(dicky[1])"
   ]
  },
  {
   "cell_type": "markdown",
   "metadata": {},
   "source": [
    "### Moving Average"
   ]
  },
  {
   "cell_type": "code",
   "execution_count": 19,
   "metadata": {},
   "outputs": [
    {
     "data": {
      "text/plain": [
       "6718.153712824201"
      ]
     },
     "execution_count": 19,
     "metadata": {},
     "output_type": "execute_result"
    }
   ],
   "source": [
    "from sklearn.metrics import mean_squared_error\n",
    "\n",
    "pred = test.copy()\n",
    "pred['MA'] = train.iloc[:,0].rolling(60).mean().iloc[-1]\n",
    "\n",
    "mean_squared_error(pred['MA'],test[column_name])**0.5"
   ]
  },
  {
   "cell_type": "code",
   "execution_count": 20,
   "metadata": {},
   "outputs": [
    {
     "data": {
      "image/png": "[encoded data removed]",
      "text/plain": [
       "<Figure size 432x288 with 1 Axes>"
      ]
     },
     "metadata": {
      "needs_background": "light"
     },
     "output_type": "display_data"
    }
   ],
   "source": [
    "import matplotlib.pyplot as plt \n",
    "\n",
    "plt.plot(train)\n",
    "plt.plot(test)\n",
    "plt.plot(pred['MA'])\n",
    "plt.show()"
   ]
  },
  {
   "cell_type": "markdown",
   "metadata": {},
   "source": [
    "### Exponential Smoothing"
   ]
  },
  {
   "cell_type": "code",
   "execution_count": 21,
   "metadata": {},
   "outputs": [
    {
     "name": "stderr",
     "output_type": "stream",
     "text": [
      "/Users/teresazhang/opt/anaconda3/lib/python3.8/site-packages/statsmodels/tsa/holtwinters/model.py:427: FutureWarning: After 0.13 initialization must be handled at model creation\n",
      "  warnings.warn(\n"
     ]
    },
    {
     "data": {
      "text/plain": [
       "6772.816293987293"
      ]
     },
     "execution_count": 21,
     "metadata": {},
     "output_type": "execute_result"
    }
   ],
   "source": [
    "from statsmodels.tsa.api import SimpleExpSmoothing, Holt, ExponentialSmoothing\n",
    "import numpy as np\n",
    "\n",
    "model = SimpleExpSmoothing(np.asarray(train.iloc[:,0])).fit(smoothing_level=0.6) \n",
    "#0.6 is for y(t-1) and 0.4 is for y(t-1 and below)\n",
    "pred['ES'] = model.forecast(len(test))\n",
    "\n",
    "mean_squared_error(pred['ES'],test[column_name])**0.5\n"
   ]
  },
  {
   "cell_type": "code",
   "execution_count": 22,
   "metadata": {},
   "outputs": [
    {
     "data": {
      "image/png": "[encoded data removed]",
      "text/plain": [
       "<Figure size 432x288 with 1 Axes>"
      ]
     },
     "metadata": {
      "needs_background": "light"
     },
     "output_type": "display_data"
    }
   ],
   "source": [
    "plt.plot(train)\n",
    "plt.plot(test)\n",
    "plt.plot(pred['ES'])\n",
    "plt.show()"
   ]
  },
  {
   "cell_type": "markdown",
   "metadata": {},
   "source": [
    "### Holt"
   ]
  },
  {
   "cell_type": "code",
   "execution_count": 23,
   "metadata": {},
   "outputs": [
    {
     "name": "stderr",
     "output_type": "stream",
     "text": [
      "/Users/teresazhang/opt/anaconda3/lib/python3.8/site-packages/statsmodels/tsa/holtwinters/model.py:427: FutureWarning: After 0.13 initialization must be handled at model creation\n",
      "  warnings.warn(\n",
      "<ipython-input-23-aca5e5d95117>:1: FutureWarning: the 'smoothing_slope'' keyword is deprecated, use 'smoothing_trend' instead\n",
      "  model = Holt(np.asarray(train.iloc[:,0])).fit(smoothing_level = 0.3,smoothing_slope = 0.1)\n"
     ]
    },
    {
     "data": {
      "text/plain": [
       "26044.775019443863"
      ]
     },
     "execution_count": 23,
     "metadata": {},
     "output_type": "execute_result"
    }
   ],
   "source": [
    "model = Holt(np.asarray(train.iloc[:,0])).fit(smoothing_level = 0.3,smoothing_slope = 0.1)  \n",
    "pred['Holt'] = model.forecast(len(test))\n",
    "mean_squared_error(pred['Holt'],test[column_name])**0.5"
   ]
  },
  {
   "cell_type": "code",
   "execution_count": 24,
   "metadata": {
    "scrolled": true
   },
   "outputs": [
    {
     "data": {
      "image/png": "[encoded data removed]",
      "text/plain": [
       "<Figure size 432x288 with 1 Axes>"
      ]
     },
     "metadata": {
      "needs_background": "light"
     },
     "output_type": "display_data"
    }
   ],
   "source": [
    "plt.plot(train, label='Train')\n",
    "plt.plot(test, label='Test')\n",
    "plt.plot(pred['Holt'], label='Holt')\n",
    "plt.legend(loc='best')\n",
    "plt.show()\n",
    "# why is it going down"
   ]
  },
  {
   "cell_type": "markdown",
   "metadata": {},
   "source": [
    "### Holt Winter"
   ]
  },
  {
   "cell_type": "code",
   "execution_count": 25,
   "metadata": {},
   "outputs": [
    {
     "name": "stderr",
     "output_type": "stream",
     "text": [
      "/Users/teresazhang/opt/anaconda3/lib/python3.8/site-packages/statsmodels/tsa/holtwinters/model.py:427: FutureWarning: After 0.13 initialization must be handled at model creation\n",
      "  warnings.warn(\n",
      "/Users/teresazhang/opt/anaconda3/lib/python3.8/site-packages/statsmodels/tsa/holtwinters/model.py:920: ConvergenceWarning: Optimization failed to converge. Check mle_retvals.\n",
      "  warnings.warn(\n"
     ]
    }
   ],
   "source": [
    "model = ExponentialSmoothing(train, trend='add').fit()"
   ]
  },
  {
   "cell_type": "code",
   "execution_count": 26,
   "metadata": {},
   "outputs": [],
   "source": [
    "pred['Holt_Winter'] = model.forecast(len(test))"
   ]
  },
  {
   "cell_type": "code",
   "execution_count": 27,
   "metadata": {},
   "outputs": [
    {
     "data": {
      "text/html": [
       "<div>\n",
       "<style scoped>\n",
       "    .dataframe tbody tr th:only-of-type {\n",
       "        vertical-align: middle;\n",
       "    }\n",
       "\n",
       "    .dataframe tbody tr th {\n",
       "        vertical-align: top;\n",
       "    }\n",
       "\n",
       "    .dataframe thead th {\n",
       "        text-align: right;\n",
       "    }\n",
       "</style>\n",
       "<table border=\"1\" class=\"dataframe\">\n",
       "  <thead>\n",
       "    <tr style=\"text-align: right;\">\n",
       "      <th></th>\n",
       "      <th>Close</th>\n",
       "      <th>MA</th>\n",
       "      <th>ES</th>\n",
       "      <th>Holt</th>\n",
       "      <th>Holt_Winter</th>\n",
       "    </tr>\n",
       "  </thead>\n",
       "  <tbody>\n",
       "    <tr>\n",
       "      <th>6862</th>\n",
       "      <td>12921.410156</td>\n",
       "      <td>12943.08055</td>\n",
       "      <td>12876.762992</td>\n",
       "      <td>12865.280287</td>\n",
       "      <td>12854.590577</td>\n",
       "    </tr>\n",
       "    <tr>\n",
       "      <th>6863</th>\n",
       "      <td>13115.540039</td>\n",
       "      <td>12943.08055</td>\n",
       "      <td>12876.762992</td>\n",
       "      <td>12845.740321</td>\n",
       "      <td>12853.036806</td>\n",
       "    </tr>\n",
       "    <tr>\n",
       "      <th>6864</th>\n",
       "      <td>13032.750000</td>\n",
       "      <td>12943.08055</td>\n",
       "      <td>12876.762992</td>\n",
       "      <td>12826.200356</td>\n",
       "      <td>12851.483034</td>\n",
       "    </tr>\n",
       "    <tr>\n",
       "      <th>6865</th>\n",
       "      <td>12964.099609</td>\n",
       "      <td>12943.08055</td>\n",
       "      <td>12876.762992</td>\n",
       "      <td>12806.660391</td>\n",
       "      <td>12849.929263</td>\n",
       "    </tr>\n",
       "    <tr>\n",
       "      <th>6866</th>\n",
       "      <td>13029.259766</td>\n",
       "      <td>12943.08055</td>\n",
       "      <td>12876.762992</td>\n",
       "      <td>12787.120426</td>\n",
       "      <td>12848.375492</td>\n",
       "    </tr>\n",
       "    <tr>\n",
       "      <th>...</th>\n",
       "      <td>...</td>\n",
       "      <td>...</td>\n",
       "      <td>...</td>\n",
       "      <td>...</td>\n",
       "      <td>...</td>\n",
       "    </tr>\n",
       "    <tr>\n",
       "      <th>8573</th>\n",
       "      <td>25239.369141</td>\n",
       "      <td>12943.08055</td>\n",
       "      <td>12876.762992</td>\n",
       "      <td>-20567.599938</td>\n",
       "      <td>10196.088210</td>\n",
       "    </tr>\n",
       "    <tr>\n",
       "      <th>8574</th>\n",
       "      <td>25411.519531</td>\n",
       "      <td>12943.08055</td>\n",
       "      <td>12876.762992</td>\n",
       "      <td>-20587.139903</td>\n",
       "      <td>10194.534439</td>\n",
       "    </tr>\n",
       "    <tr>\n",
       "      <th>8575</th>\n",
       "      <td>25390.300781</td>\n",
       "      <td>12943.08055</td>\n",
       "      <td>12876.762992</td>\n",
       "      <td>-20606.679868</td>\n",
       "      <td>10192.980668</td>\n",
       "    </tr>\n",
       "    <tr>\n",
       "      <th>8576</th>\n",
       "      <td>25169.529297</td>\n",
       "      <td>12943.08055</td>\n",
       "      <td>12876.762992</td>\n",
       "      <td>-20626.219833</td>\n",
       "      <td>10191.426897</td>\n",
       "    </tr>\n",
       "    <tr>\n",
       "      <th>8577</th>\n",
       "      <td>25106.330078</td>\n",
       "      <td>12943.08055</td>\n",
       "      <td>12876.762992</td>\n",
       "      <td>-20645.759798</td>\n",
       "      <td>10189.873125</td>\n",
       "    </tr>\n",
       "  </tbody>\n",
       "</table>\n",
       "<p>1716 rows × 5 columns</p>\n",
       "</div>"
      ],
      "text/plain": [
       "             Close           MA            ES          Holt   Holt_Winter\n",
       "6862  12921.410156  12943.08055  12876.762992  12865.280287  12854.590577\n",
       "6863  13115.540039  12943.08055  12876.762992  12845.740321  12853.036806\n",
       "6864  13032.750000  12943.08055  12876.762992  12826.200356  12851.483034\n",
       "6865  12964.099609  12943.08055  12876.762992  12806.660391  12849.929263\n",
       "6866  13029.259766  12943.08055  12876.762992  12787.120426  12848.375492\n",
       "...            ...          ...           ...           ...           ...\n",
       "8573  25239.369141  12943.08055  12876.762992 -20567.599938  10196.088210\n",
       "8574  25411.519531  12943.08055  12876.762992 -20587.139903  10194.534439\n",
       "8575  25390.300781  12943.08055  12876.762992 -20606.679868  10192.980668\n",
       "8576  25169.529297  12943.08055  12876.762992 -20626.219833  10191.426897\n",
       "8577  25106.330078  12943.08055  12876.762992 -20645.759798  10189.873125\n",
       "\n",
       "[1716 rows x 5 columns]"
      ]
     },
     "execution_count": 27,
     "metadata": {},
     "output_type": "execute_result"
    }
   ],
   "source": [
    "pred"
   ]
  },
  {
   "cell_type": "code",
   "execution_count": 28,
   "metadata": {},
   "outputs": [
    {
     "data": {
      "text/plain": [
       "Close          False\n",
       "MA             False\n",
       "ES             False\n",
       "Holt           False\n",
       "Holt_Winter    False\n",
       "dtype: bool"
      ]
     },
     "execution_count": 28,
     "metadata": {},
     "output_type": "execute_result"
    }
   ],
   "source": [
    "pred.isnull().any()"
   ]
  },
  {
   "cell_type": "code",
   "execution_count": 29,
   "metadata": {},
   "outputs": [
    {
     "data": {
      "text/plain": [
       "8307.981904763583"
      ]
     },
     "execution_count": 29,
     "metadata": {},
     "output_type": "execute_result"
    }
   ],
   "source": [
    "mean_squared_error(pred['Holt_Winter'],pred[column_name])**0.5"
   ]
  },
  {
   "cell_type": "code",
   "execution_count": 30,
   "metadata": {
    "scrolled": true
   },
   "outputs": [
    {
     "data": {
      "image/png": "[encoded data removed]",
      "text/plain": [
       "<Figure size 432x288 with 1 Axes>"
      ]
     },
     "metadata": {
      "needs_background": "light"
     },
     "output_type": "display_data"
    }
   ],
   "source": [
    "plt.plot(train, label='Train')\n",
    "plt.plot(test, label='Test')\n",
    "plt.plot(pred['Holt_Winter'], label='Holt_Winter')\n",
    "plt.legend(loc='best')\n",
    "plt.show()\n",
    "# why is it going down"
   ]
  },
  {
   "cell_type": "markdown",
   "metadata": {},
   "source": [
    "### SARIMA"
   ]
  },
  {
   "cell_type": "code",
   "execution_count": 31,
   "metadata": {
    "scrolled": false
   },
   "outputs": [
    {
     "name": "stderr",
     "output_type": "stream",
     "text": [
      "/Users/teresazhang/opt/anaconda3/lib/python3.8/site-packages/statsmodels/tsa/statespace/sarimax.py:1008: UserWarning: Non-invertible starting seasonal moving average Using zeros as starting parameters.\n",
      "  warn('Non-invertible starting seasonal moving average'\n"
     ]
    },
    {
     "data": {
      "text/plain": [
       "19835.923641349193"
      ]
     },
     "execution_count": 31,
     "metadata": {},
     "output_type": "execute_result"
    }
   ],
   "source": [
    "import statsmodels.api as sm\n",
    "\n",
    "model = sm.tsa.statespace.SARIMAX(train.iloc[:,0], order=(1, 1, 1),seasonal_order=(2,2,2,2)).fit()\n",
    "pred['SARIMA'] = model.forecast(len(test))\n",
    "mean_squared_error(pred['SARIMA'],pred[column_name])**0.5"
   ]
  },
  {
   "cell_type": "code",
   "execution_count": 32,
   "metadata": {
    "scrolled": false
   },
   "outputs": [
    {
     "data": {
      "image/png": "[encoded data removed]",
      "text/plain": [
       "<Figure size 432x288 with 1 Axes>"
      ]
     },
     "metadata": {
      "needs_background": "light"
     },
     "output_type": "display_data"
    }
   ],
   "source": [
    "plt.plot(train, label='Train')\n",
    "plt.plot(test, label='Test')\n",
    "plt.plot(pred['SARIMA'], label='SARIMA')\n",
    "plt.legend(loc='best')\n",
    "plt.show()\n",
    "# why is it going down"
   ]
  },
  {
   "cell_type": "markdown",
   "metadata": {},
   "source": [
    "### Compose decompose"
   ]
  },
  {
   "cell_type": "code",
   "execution_count": 33,
   "metadata": {},
   "outputs": [
    {
     "name": "stderr",
     "output_type": "stream",
     "text": [
      "<ipython-input-33-078d033fc430>:3: FutureWarning: the 'freq'' keyword is deprecated, use 'period' instead\n",
      "  decomposition = seasonal_decompose(train, model='additive', freq=12)\n"
     ]
    }
   ],
   "source": [
    "from statsmodels.tsa.seasonal import seasonal_decompose\n",
    "\n",
    "decomposition = seasonal_decompose(train, model='additive', freq=12)\n",
    "trend = decomposition.trend.dropna()\n",
    "seasonal=decomposition.seasonal.dropna()\n",
    "residual=decomposition.resid.dropna()"
   ]
  },
  {
   "cell_type": "code",
   "execution_count": 34,
   "metadata": {},
   "outputs": [
    {
     "data": {
      "image/png": "[encoded data removed]",
      "text/plain": [
       "<Figure size 432x288 with 4 Axes>"
      ]
     },
     "metadata": {
      "needs_background": "light"
     },
     "output_type": "display_data"
    }
   ],
   "source": [
    "decomposition.plot()\n",
    "plt.show()\n",
    "# there is a trend and seasonality"
   ]
  },
  {
   "cell_type": "code",
   "execution_count": 35,
   "metadata": {},
   "outputs": [
    {
     "name": "stdout",
     "output_type": "stream",
     "text": [
      "p-value: 0.000000\n"
     ]
    }
   ],
   "source": [
    "result = adfuller(residual)\n",
    "print('p-value: %f' % result[1]) \n",
    "# residual has a small p-value -> residual is stationary"
   ]
  },
  {
   "cell_type": "code",
   "execution_count": 36,
   "metadata": {},
   "outputs": [
    {
     "name": "stdout",
     "output_type": "stream",
     "text": [
      "5140    10547.570313\n",
      "5141    10566.370117\n",
      "5142    10578.650391\n",
      "5143    10623.070313\n",
      "5144    10609.110352\n",
      "            ...     \n",
      "6851    13145.820313\n",
      "6852    13212.040039\n",
      "6853    13264.490234\n",
      "6854    13199.549805\n",
      "6855    13074.750000\n",
      "Length: 1716, dtype: float64\n",
      "             Close\n",
      "6862  12921.410156\n",
      "6863  13115.540039\n",
      "6864  13032.750000\n",
      "6865  12964.099609\n",
      "6866  13029.259766\n",
      "...            ...\n",
      "8573  25239.369141\n",
      "8574  25411.519531\n",
      "8575  25390.300781\n",
      "8576  25169.529297\n",
      "8577  25106.330078\n",
      "\n",
      "[1716 rows x 1 columns]\n"
     ]
    },
    {
     "data": {
      "text/plain": [
       "8198.882177879575"
      ]
     },
     "execution_count": 36,
     "metadata": {},
     "output_type": "execute_result"
    }
   ],
   "source": [
    "#Compose back\n",
    "#Without Customization (On Test Set) Additive\n",
    "pred =  trend + seasonal + residual\n",
    "\n",
    "pred = pred.dropna()[-len(test):]\n",
    "\n",
    "print(pred)\n",
    "print(test)\n",
    "mean_squared_error(pred, test[column_name])**0.5"
   ]
  },
  {
   "cell_type": "code",
   "execution_count": 37,
   "metadata": {
    "scrolled": false
   },
   "outputs": [
    {
     "data": {
      "image/png": "[encoded data removed]",
      "text/plain": [
       "<Figure size 432x288 with 1 Axes>"
      ]
     },
     "metadata": {
      "needs_background": "light"
     },
     "output_type": "display_data"
    }
   ],
   "source": [
    "plt.plot(train, label='Train')\n",
    "plt.plot(test, label='Test')\n",
    "plt.plot(pred, label='Compose decompose')\n",
    "plt.legend(loc='best')\n",
    "plt.show()"
   ]
  },
  {
   "cell_type": "code",
   "execution_count": 38,
   "metadata": {},
   "outputs": [
    {
     "data": {
      "text/plain": [
       "7245.529627018445"
      ]
     },
     "execution_count": 38,
     "metadata": {},
     "output_type": "execute_result"
    }
   ],
   "source": [
    "#Compose back with customization\n",
    "pred =  1.1*trend + 1.1*seasonal + 1.1*residual\n",
    "pred = pred.dropna()[-len(test):]\n",
    "mean_squared_error(pred, test[column_name])**0.5"
   ]
  },
  {
   "cell_type": "code",
   "execution_count": 39,
   "metadata": {
    "scrolled": false
   },
   "outputs": [
    {
     "data": {
      "image/png": "[encoded data removed]",
      "text/plain": [
       "<Figure size 432x288 with 1 Axes>"
      ]
     },
     "metadata": {
      "needs_background": "light"
     },
     "output_type": "display_data"
    }
   ],
   "source": [
    "plt.plot(train, label='Train')\n",
    "plt.plot(test, label='Test')\n",
    "plt.plot(pred, label='Compose with customisation')\n",
    "plt.legend(loc='best')\n",
    "plt.show()"
   ]
  },
  {
   "cell_type": "markdown",
   "metadata": {},
   "source": [
    "### Multiplicative"
   ]
  },
  {
   "cell_type": "code",
   "execution_count": 40,
   "metadata": {},
   "outputs": [
    {
     "name": "stderr",
     "output_type": "stream",
     "text": [
      "<ipython-input-40-bfe7511ab5ad>:1: FutureWarning: the 'freq'' keyword is deprecated, use 'period' instead\n",
      "  decomposition = seasonal_decompose(train, model='multiplicative', freq=2)\n"
     ]
    },
    {
     "data": {
      "text/plain": [
       "7237.475938591932"
      ]
     },
     "execution_count": 40,
     "metadata": {},
     "output_type": "execute_result"
    }
   ],
   "source": [
    "decomposition = seasonal_decompose(train, model='multiplicative', freq=2)\n",
    "trend = decomposition.trend.dropna()\n",
    "seasonal=decomposition.seasonal.dropna()\n",
    "residual=decomposition.resid.dropna()\n",
    "\n",
    "#Without Customization (On Test Set) Additive\n",
    "pred =  1.1*trend*seasonal*residual\n",
    "\n",
    "pred = pred.dropna()[-len(test):]\n",
    "\n",
    "mean_squared_error(pred, test[column_name])**0.5\n"
   ]
  },
  {
   "cell_type": "code",
   "execution_count": 41,
   "metadata": {
    "scrolled": false
   },
   "outputs": [
    {
     "data": {
      "image/png": "[encoded data removed]",
      "text/plain": [
       "<Figure size 432x288 with 1 Axes>"
      ]
     },
     "metadata": {
      "needs_background": "light"
     },
     "output_type": "display_data"
    }
   ],
   "source": [
    "plt.plot(train, label='Train')\n",
    "plt.plot(test, label='Test')\n",
    "plt.plot(pred, label='Multiplicative')\n",
    "plt.legend(loc='best')\n",
    "plt.show()"
   ]
  },
  {
   "cell_type": "markdown",
   "metadata": {},
   "source": [
    "### Auto Regression"
   ]
  },
  {
   "cell_type": "code",
   "execution_count": 42,
   "metadata": {
    "scrolled": false
   },
   "outputs": [
    {
     "name": "stderr",
     "output_type": "stream",
     "text": [
      "/Users/teresazhang/opt/anaconda3/lib/python3.8/site-packages/statsmodels/tsa/ar_model.py:248: FutureWarning: The parameter names will change after 0.12 is released. Set old_names to False to use the new names now. Set old_names to True to use the old names. \n",
      "  warnings.warn(\n"
     ]
    },
    {
     "name": "stdout",
     "output_type": "stream",
     "text": [
      "intercept    3.778840\n",
      "Close.L1     0.936082\n",
      "Close.L2     0.063639\n",
      "dtype: float64\n"
     ]
    },
    {
     "data": {
      "image/png": "[encoded data removed]",
      "text/plain": [
       "<Figure size 432x288 with 1 Axes>"
      ]
     },
     "metadata": {
      "needs_background": "light"
     },
     "output_type": "display_data"
    },
    {
     "name": "stdout",
     "output_type": "stream",
     "text": [
      "Test RMSE: 6638.878\n"
     ]
    },
    {
     "data": {
      "text/plain": [
       "3000    6460.697776\n",
       "dtype: float64"
      ]
     },
     "execution_count": 42,
     "metadata": {},
     "output_type": "execute_result"
    }
   ],
   "source": [
    "from matplotlib import pyplot\n",
    "from statsmodels.tsa.ar_model import AutoReg\n",
    "from math import sqrt\n",
    "\n",
    "# train autoregression\n",
    "model = AutoReg(train, lags=2)\n",
    "model = model.fit()\n",
    "print(model.params)\n",
    "\n",
    "# make predictions\n",
    "predictions = model.predict(start=len(train), end=len(train)+len(test)-1, dynamic=False)\n",
    "\n",
    "# plot results\n",
    "pyplot.plot(test)\n",
    "pyplot.plot(predictions, color='red')\n",
    "pyplot.show()\n",
    "\n",
    "rmse = sqrt(mean_squared_error(test, predictions))\n",
    "print('Test RMSE: %.3f' % rmse)\n",
    "\n",
    "model.predict(3000,3000)"
   ]
  },
  {
   "cell_type": "markdown",
   "metadata": {},
   "source": [
    "## Conclusion\n",
    "Strangely, even though the Dicky Fuller Test suggests that the model is not stationary, Moving Average performed the best with the lowest RMSE of 6718.15, while Holt performed the worst with the highest RMSE of 26044.77. Thus, it is hard to prredict financial product price using technical analysis including trend analysis, due to the uncertain graph."
   ]
  },
  {
   "cell_type": "code",
   "execution_count": null,
   "metadata": {},
   "outputs": [],
   "source": []
  }
 ],
 "metadata": {
  "kernelspec": {
   "display_name": "Python 3",
   "language": "python",
   "name": "python3"
  },
  "language_info": {
   "codemirror_mode": {
    "name": "ipython",
    "version": 3
   },
   "file_extension": ".py",
   "mimetype": "text/x-python",
   "name": "python",
   "nbconvert_exporter": "python",
   "pygments_lexer": "ipython3",
   "version": "3.8.5"
  }
 },
 "nbformat": 4,
 "nbformat_minor": 4
}
