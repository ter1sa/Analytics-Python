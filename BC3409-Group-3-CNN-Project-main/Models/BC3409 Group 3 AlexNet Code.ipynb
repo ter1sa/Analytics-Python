{
 "cells": [
  {
   "cell_type": "code",
   "execution_count": 14,
   "metadata": {
    "id": "j42nysy2t3pI"
   },
   "outputs": [],
   "source": [
    "from tqdm.notebook import tqdm\n",
    "import torch\n",
    "import torchvision\n",
    "import torchvision.transforms as transforms\n",
    "import torch.nn as nn\n",
    "import torch.nn.functional as F\n",
    "import torch.optim as optim\n",
    "from torch.utils.data import DataLoader, SubsetRandomSampler, TensorDataset, random_split, SubsetRandomSampler, ConcatDataset\n",
    "\n",
    "import matplotlib.pyplot as plt\n",
    "from sklearn.metrics import confusion_matrix\n",
    "from sklearn.model_selection import KFold\n",
    "import numpy as np \n",
    "import pandas as pd\n",
    "import os\n",
    "import seaborn as sns"
   ]
  },
  {
   "cell_type": "code",
   "execution_count": 32,
   "metadata": {
    "colab": {
     "base_uri": "https://localhost:8080/"
    },
    "id": "PyPd1sznLcEH",
    "outputId": "3977051f-e672-44f7-987c-ef409e2c8981"
   },
   "outputs": [
    {
     "data": {
      "text/plain": [
       "['.DS_Store', 'malignant', 'benign']"
      ]
     },
     "execution_count": 32,
     "metadata": {},
     "output_type": "execute_result"
    }
   ],
   "source": [
    "data_path = '/Users/bytedance/Downloads/melanoma_cancer_dataset'\n",
    "train_path = '/Users/bytedance/Downloads/melanoma_cancer_dataset/train'\n",
    "test_path = '/Users/bytedance/Downloads/TEST one image'\n",
    "os.listdir(train_path)"
   ]
  },
  {
   "cell_type": "code",
   "execution_count": 3,
   "metadata": {
    "colab": {
     "base_uri": "https://localhost:8080/"
    },
    "id": "5dd876Vqb8Fe",
    "outputId": "40a531cd-4e38-439b-ba98-635f29792617"
   },
   "outputs": [
    {
     "data": {
      "text/plain": [
       "['benign', 'malignant']"
      ]
     },
     "execution_count": 3,
     "metadata": {},
     "output_type": "execute_result"
    }
   ],
   "source": [
    "transform = transforms.Compose([transforms.Resize((227, 227)),\n",
    "                                transforms.ToTensor(),\n",
    "                                transforms.Normalize((0.485, 0.456, 0.406), (0.229, 0.224, 0.225))])\n",
    "\n",
    "batch_size = 64\n",
    "\n",
    "train_set = torchvision.datasets.ImageFolder(train_path, \n",
    "                                            transform=transform)\n",
    "\n",
    "test_set = torchvision.datasets.ImageFolder(test_path, \n",
    "                                            transform=transform)\n",
    "\n",
    "train_loader = torch.utils.data.DataLoader(train_set, batch_size=batch_size, \n",
    "                                          shuffle=True, num_workers=2)\n",
    "\n",
    "classes = train_set.classes\n",
    "\n",
    "classes"
   ]
  },
  {
   "cell_type": "code",
   "execution_count": 4,
   "metadata": {
    "id": "x2UC_Uz9cFt-"
   },
   "outputs": [],
   "source": [
    "device = torch.device('cuda:0' if torch.cuda.is_available() else 'cpu')"
   ]
  },
  {
   "cell_type": "code",
   "execution_count": 5,
   "metadata": {
    "colab": {
     "base_uri": "https://localhost:8080/"
    },
    "id": "QpOjJPUYR2mJ",
    "outputId": "dbb74e93-8265-4e34-fbf0-5414423ccc09"
   },
   "outputs": [
    {
     "data": {
      "text/plain": [
       "AlexNet(\n",
       "  (features): Sequential(\n",
       "    (0): Conv2d(3, 96, kernel_size=(11, 11), stride=(4, 4), padding=(2, 2))\n",
       "    (1): ReLU(inplace=True)\n",
       "    (2): MaxPool2d(kernel_size=3, stride=2, padding=0, dilation=1, ceil_mode=False)\n",
       "    (3): Conv2d(96, 256, kernel_size=(5, 5), stride=(1, 1), padding=(2, 2))\n",
       "    (4): ReLU(inplace=True)\n",
       "    (5): MaxPool2d(kernel_size=3, stride=2, padding=0, dilation=1, ceil_mode=False)\n",
       "    (6): Conv2d(256, 512, kernel_size=(3, 3), stride=(1, 1), padding=(1, 1))\n",
       "    (7): ReLU(inplace=True)\n",
       "    (8): MaxPool2d(kernel_size=3, stride=2, padding=0, dilation=1, ceil_mode=False)\n",
       "    (9): Conv2d(512, 512, kernel_size=(3, 3), stride=(1, 1), padding=(1, 1))\n",
       "    (10): ReLU(inplace=True)\n",
       "    (11): Conv2d(512, 256, kernel_size=(3, 3), stride=(1, 1), padding=(1, 1))\n",
       "    (12): ReLU(inplace=True)\n",
       "    (13): MaxPool2d(kernel_size=3, stride=2, padding=0, dilation=1, ceil_mode=False)\n",
       "    (14): AdaptiveAvgPool2d(output_size=(6, 6))\n",
       "  )\n",
       "  (classifier): Sequential(\n",
       "    (0): Linear(in_features=9216, out_features=4096, bias=True)\n",
       "    (1): Dropout(p=0.5, inplace=False)\n",
       "    (2): Linear(in_features=4096, out_features=4096, bias=True)\n",
       "    (3): Dropout(p=0.5, inplace=False)\n",
       "    (4): Linear(in_features=4096, out_features=2, bias=True)\n",
       "  )\n",
       ")"
      ]
     },
     "execution_count": 5,
     "metadata": {},
     "output_type": "execute_result"
    }
   ],
   "source": [
    "class AlexNet(nn.Module):\n",
    "    def __init__(self):\n",
    "        super().__init__()\n",
    "        self.features = nn.Sequential(nn.Conv2d(in_channels=3, out_channels=96, kernel_size=11, stride=4, padding=2),\n",
    "                                      nn.ReLU(inplace=True),\n",
    "                                      nn.MaxPool2d(kernel_size=3, stride=2),\n",
    "                                      nn.Conv2d(in_channels=96, out_channels=256, kernel_size=5, padding=2),\n",
    "                                      nn.ReLU(inplace=True),\n",
    "                                      nn.MaxPool2d(kernel_size=3, stride=2),\n",
    "                                      nn.Conv2d(in_channels=256, out_channels=512, kernel_size=3, padding=1),\n",
    "                                      nn.ReLU(inplace=True),\n",
    "                                      nn.MaxPool2d(kernel_size=3, stride=2),\n",
    "                                      nn.Conv2d(in_channels=512, out_channels=512, kernel_size=3, padding=1),\n",
    "                                      nn.ReLU(inplace=True),\n",
    "                                      nn.Conv2d(in_channels=512, out_channels=256, kernel_size=3, padding=1),\n",
    "                                      nn.ReLU(inplace=True),\n",
    "                                      nn.MaxPool2d(kernel_size=3, stride=2),\n",
    "                                      nn.AdaptiveAvgPool2d((6, 6))\n",
    "                                     )\n",
    "        \n",
    "        self.classifier = nn.Sequential(nn.Linear(256 * 6 * 6, 4096),\n",
    "                                        nn.Dropout(p=0.5),\n",
    "                                        nn.Linear(4096, 4096),\n",
    "                                        nn.Dropout(p=0.5),\n",
    "                                        nn.Linear(4096, 2)\n",
    "                                       )\n",
    "\n",
    "\n",
    "    def forward(self, x):\n",
    "        x = self.features(x)\n",
    "        \n",
    "        x = x.view(-1, 6 * 6 * 256)\n",
    "        \n",
    "        x = self.classifier(x)\n",
    "        return x\n",
    "\n",
    "\n",
    "model = AlexNet()\n",
    "model.to(device)"
   ]
  },
  {
   "cell_type": "code",
   "execution_count": 6,
   "metadata": {
    "id": "Vfd21ZhQcKSg"
   },
   "outputs": [],
   "source": [
    "criterion = nn.CrossEntropyLoss()"
   ]
  },
  {
   "cell_type": "code",
   "execution_count": 7,
   "metadata": {
    "id": "w15OJSRRcuqn"
   },
   "outputs": [],
   "source": [
    "torch.manual_seed(42)\n",
    "\n",
    "#dataset = ConcatDataset([train_set, test_set])\n",
    "dataset = train_set\n",
    "\n",
    "num_epochs = 10\n",
    "\n",
    "k = 5\n",
    "\n",
    "splits = KFold(n_splits = k, shuffle = True, random_state = 42)\n",
    "\n",
    "foldperf = {}"
   ]
  },
  {
   "cell_type": "code",
   "execution_count": 8,
   "metadata": {
    "id": "Uy2CNLqWcvR9"
   },
   "outputs": [],
   "source": [
    "def train_epoch(model, device, dataloader, loss_fn, optimizer):\n",
    "    train_loss, train_correct = 0.0, 0\n",
    "    model.train()\n",
    "    for images, labels in dataloader:\n",
    "\n",
    "        images,labels = images.to(device), labels.to(device)\n",
    "        optimizer.zero_grad()\n",
    "        output = model(images)\n",
    "        loss = loss_fn(output,labels)\n",
    "        loss.backward()\n",
    "        optimizer.step()\n",
    "        train_loss += loss.item() * images.size(0)\n",
    "        scores, predictions = torch.max(output.data, 1)\n",
    "        train_correct += (predictions == labels).sum().item()\n",
    "\n",
    "    return train_loss, train_correct\n",
    "  \n",
    "def valid_epoch(model, device, dataloader, loss_fn):\n",
    "    valid_loss, val_correct = 0.0, 0\n",
    "    model.eval()\n",
    "    for images, labels in dataloader:\n",
    "\n",
    "        images, labels = images.to(device), labels.to(device)\n",
    "        output = model(images)\n",
    "        loss = loss_fn(output,labels)\n",
    "        valid_loss += loss.item() * images.size(0)\n",
    "        scores, predictions = torch.max(output.data,1)\n",
    "        val_correct += (predictions == labels).sum().item()\n",
    "\n",
    "    return valid_loss, val_correct"
   ]
  },
  {
   "cell_type": "code",
   "execution_count": 9,
   "metadata": {
    "colab": {
     "base_uri": "https://localhost:8080/",
     "height": 66,
     "referenced_widgets": [
      "cd89f6fb10ad4004b53b8b60654f02a0",
      "59ddca001af44475a474c012f1a71ee4",
      "bce0a6faaac141c6bd9f839674e2e44b",
      "f7d89f8f42c042e2a1bce8e997047ffb",
      "c5e5dad77302415fb979cd0db76a3bf3",
      "d6c7cc908221479cb09445436f77dfe6",
      "a870bf446a43469a8d678aea37bf1715",
      "e8f72e90696d43f3a02b7ddc15cedc4e",
      "3bd3f7eaf0384f0bbacbfde8d4558def",
      "bd4d08b77b094169a649ed83fa6f5a9c",
      "d35c8e84f2714196bf462b0e98b2f078"
     ]
    },
    "id": "o4bO4PTccyJ0",
    "outputId": "55d99fde-d645-4458-b70f-aef45039574e"
   },
   "outputs": [
    {
     "name": "stdout",
     "output_type": "stream",
     "text": [
      "Fold 1\n"
     ]
    },
    {
     "data": {
      "application/vnd.jupyter.widget-view+json": {
       "model_id": "b259e791ab9a428f972e4a7f715ba5fc",
       "version_major": 2,
       "version_minor": 0
      },
      "text/plain": [
       "  0%|          | 0/10 [00:00<?, ?it/s]"
      ]
     },
     "metadata": {},
     "output_type": "display_data"
    },
    {
     "name": "stderr",
     "output_type": "stream",
     "text": [
      "[W NNPACK.cpp:53] Could not initialize NNPACK! Reason: Unsupported hardware.\n"
     ]
    },
    {
     "name": "stdout",
     "output_type": "stream",
     "text": [
      "Epoch:1/10 || AVG Training Loss:0.678 || AVG Test Loss:0.624 || AVG Training Acc 56.23 % || AVG Test Acc 65.64 %\n",
      "Epoch:2/10 || AVG Training Loss:0.459 || AVG Test Loss:0.476 || AVG Training Acc 78.15 % || AVG Test Acc 76.63 %\n",
      "Epoch:3/10 || AVG Training Loss:0.348 || AVG Test Loss:0.309 || AVG Training Acc 84.66 % || AVG Test Acc 86.21 %\n",
      "Epoch:4/10 || AVG Training Loss:0.315 || AVG Test Loss:0.307 || AVG Training Acc 86.97 % || AVG Test Acc 86.88 %\n",
      "Epoch:5/10 || AVG Training Loss:0.301 || AVG Test Loss:0.349 || AVG Training Acc 87.18 % || AVG Test Acc 84.02 %\n",
      "Epoch:6/10 || AVG Training Loss:0.292 || AVG Test Loss:0.321 || AVG Training Acc 87.86 % || AVG Test Acc 86.88 %\n",
      "Epoch:7/10 || AVG Training Loss:0.279 || AVG Test Loss:0.280 || AVG Training Acc 88.63 % || AVG Test Acc 88.13 %\n",
      "Epoch:8/10 || AVG Training Loss:0.264 || AVG Test Loss:0.267 || AVG Training Acc 89.33 % || AVG Test Acc 88.91 %\n",
      "Epoch:9/10 || AVG Training Loss:0.258 || AVG Test Loss:0.262 || AVG Training Acc 89.55 % || AVG Test Acc 89.17 %\n",
      "Epoch:10/10 || AVG Training Loss:0.256 || AVG Test Loss:0.265 || AVG Training Acc 89.33 % || AVG Test Acc 89.74 %\n",
      "Fold 2\n"
     ]
    },
    {
     "data": {
      "application/vnd.jupyter.widget-view+json": {
       "model_id": "de48b3b19d4f40489b89663906293b1d",
       "version_major": 2,
       "version_minor": 0
      },
      "text/plain": [
       "  0%|          | 0/10 [00:00<?, ?it/s]"
      ]
     },
     "metadata": {},
     "output_type": "display_data"
    },
    {
     "name": "stdout",
     "output_type": "stream",
     "text": [
      "Epoch:1/10 || AVG Training Loss:0.256 || AVG Test Loss:0.327 || AVG Training Acc 89.67 % || AVG Test Acc 85.63 %\n",
      "Epoch:2/10 || AVG Training Loss:0.259 || AVG Test Loss:0.224 || AVG Training Acc 89.32 % || AVG Test Acc 91.41 %\n",
      "Epoch:3/10 || AVG Training Loss:0.241 || AVG Test Loss:0.266 || AVG Training Acc 90.33 % || AVG Test Acc 89.12 %\n",
      "Epoch:4/10 || AVG Training Loss:0.244 || AVG Test Loss:0.225 || AVG Training Acc 89.98 % || AVG Test Acc 91.83 %\n",
      "Epoch:5/10 || AVG Training Loss:0.238 || AVG Test Loss:0.234 || AVG Training Acc 90.17 % || AVG Test Acc 91.57 %\n",
      "Epoch:6/10 || AVG Training Loss:0.227 || AVG Test Loss:0.213 || AVG Training Acc 90.89 % || AVG Test Acc 92.04 %\n",
      "Epoch:7/10 || AVG Training Loss:0.221 || AVG Test Loss:0.208 || AVG Training Acc 90.85 % || AVG Test Acc 91.78 %\n",
      "Epoch:8/10 || AVG Training Loss:0.220 || AVG Test Loss:0.214 || AVG Training Acc 91.03 % || AVG Test Acc 91.93 %\n",
      "Epoch:9/10 || AVG Training Loss:0.208 || AVG Test Loss:0.256 || AVG Training Acc 91.41 % || AVG Test Acc 89.90 %\n",
      "Epoch:10/10 || AVG Training Loss:0.214 || AVG Test Loss:0.205 || AVG Training Acc 91.33 % || AVG Test Acc 92.14 %\n",
      "Fold 3\n"
     ]
    },
    {
     "data": {
      "application/vnd.jupyter.widget-view+json": {
       "model_id": "a2d9243404d9456eae8a71d16e03fb11",
       "version_major": 2,
       "version_minor": 0
      },
      "text/plain": [
       "  0%|          | 0/10 [00:00<?, ?it/s]"
      ]
     },
     "metadata": {},
     "output_type": "display_data"
    },
    {
     "name": "stdout",
     "output_type": "stream",
     "text": [
      "Epoch:1/10 || AVG Training Loss:0.204 || AVG Test Loss:0.177 || AVG Training Acc 91.93 % || AVG Test Acc 93.02 %\n",
      "Epoch:2/10 || AVG Training Loss:0.209 || AVG Test Loss:0.184 || AVG Training Acc 91.66 % || AVG Test Acc 92.66 %\n",
      "Epoch:3/10 || AVG Training Loss:0.198 || AVG Test Loss:0.216 || AVG Training Acc 91.94 % || AVG Test Acc 91.15 %\n",
      "Epoch:4/10 || AVG Training Loss:0.192 || AVG Test Loss:0.177 || AVG Training Acc 92.45 % || AVG Test Acc 93.28 %\n",
      "Epoch:5/10 || AVG Training Loss:0.189 || AVG Test Loss:0.171 || AVG Training Acc 92.33 % || AVG Test Acc 93.39 %\n",
      "Epoch:6/10 || AVG Training Loss:0.195 || AVG Test Loss:0.188 || AVG Training Acc 92.27 % || AVG Test Acc 92.04 %\n",
      "Epoch:7/10 || AVG Training Loss:0.180 || AVG Test Loss:0.185 || AVG Training Acc 92.84 % || AVG Test Acc 92.82 %\n",
      "Epoch:8/10 || AVG Training Loss:0.188 || AVG Test Loss:0.172 || AVG Training Acc 92.44 % || AVG Test Acc 92.45 %\n",
      "Epoch:9/10 || AVG Training Loss:0.170 || AVG Test Loss:0.168 || AVG Training Acc 93.12 % || AVG Test Acc 93.44 %\n",
      "Epoch:10/10 || AVG Training Loss:0.170 || AVG Test Loss:0.222 || AVG Training Acc 93.02 % || AVG Test Acc 91.31 %\n",
      "Fold 4\n"
     ]
    },
    {
     "data": {
      "application/vnd.jupyter.widget-view+json": {
       "model_id": "293e7882d9ce4ebbb63816a7c89704d2",
       "version_major": 2,
       "version_minor": 0
      },
      "text/plain": [
       "  0%|          | 0/10 [00:00<?, ?it/s]"
      ]
     },
     "metadata": {},
     "output_type": "display_data"
    },
    {
     "name": "stdout",
     "output_type": "stream",
     "text": [
      "Epoch:1/10 || AVG Training Loss:0.164 || AVG Test Loss:0.162 || AVG Training Acc 93.25 % || AVG Test Acc 93.34 %\n",
      "Epoch:2/10 || AVG Training Loss:0.161 || AVG Test Loss:0.163 || AVG Training Acc 93.51 % || AVG Test Acc 92.97 %\n",
      "Epoch:3/10 || AVG Training Loss:0.149 || AVG Test Loss:0.177 || AVG Training Acc 93.95 % || AVG Test Acc 92.66 %\n",
      "Epoch:4/10 || AVG Training Loss:0.148 || AVG Test Loss:0.165 || AVG Training Acc 94.25 % || AVG Test Acc 93.23 %\n",
      "Epoch:5/10 || AVG Training Loss:0.142 || AVG Test Loss:0.166 || AVG Training Acc 94.39 % || AVG Test Acc 93.39 %\n",
      "Epoch:6/10 || AVG Training Loss:0.139 || AVG Test Loss:0.168 || AVG Training Acc 94.59 % || AVG Test Acc 93.39 %\n",
      "Epoch:7/10 || AVG Training Loss:0.130 || AVG Test Loss:0.206 || AVG Training Acc 94.85 % || AVG Test Acc 91.51 %\n",
      "Epoch:8/10 || AVG Training Loss:0.131 || AVG Test Loss:0.172 || AVG Training Acc 94.78 % || AVG Test Acc 93.39 %\n",
      "Epoch:9/10 || AVG Training Loss:0.118 || AVG Test Loss:0.174 || AVG Training Acc 95.42 % || AVG Test Acc 93.75 %\n",
      "Epoch:10/10 || AVG Training Loss:0.112 || AVG Test Loss:0.204 || AVG Training Acc 95.63 % || AVG Test Acc 91.93 %\n",
      "Fold 5\n"
     ]
    },
    {
     "data": {
      "application/vnd.jupyter.widget-view+json": {
       "model_id": "4aa6600ed71b4ba3b94720c56859bba8",
       "version_major": 2,
       "version_minor": 0
      },
      "text/plain": [
       "  0%|          | 0/10 [00:00<?, ?it/s]"
      ]
     },
     "metadata": {},
     "output_type": "display_data"
    },
    {
     "name": "stdout",
     "output_type": "stream",
     "text": [
      "Epoch:1/10 || AVG Training Loss:0.127 || AVG Test Loss:0.158 || AVG Training Acc 95.28 % || AVG Test Acc 93.34 %\n",
      "Epoch:2/10 || AVG Training Loss:0.120 || AVG Test Loss:0.124 || AVG Training Acc 95.35 % || AVG Test Acc 95.00 %\n",
      "Epoch:3/10 || AVG Training Loss:0.108 || AVG Test Loss:0.094 || AVG Training Acc 96.10 % || AVG Test Acc 96.56 %\n",
      "Epoch:4/10 || AVG Training Loss:0.116 || AVG Test Loss:0.108 || AVG Training Acc 95.59 % || AVG Test Acc 95.94 %\n",
      "Epoch:5/10 || AVG Training Loss:0.095 || AVG Test Loss:0.179 || AVG Training Acc 96.49 % || AVG Test Acc 92.40 %\n",
      "Epoch:6/10 || AVG Training Loss:0.118 || AVG Test Loss:0.120 || AVG Training Acc 95.59 % || AVG Test Acc 95.26 %\n",
      "Epoch:7/10 || AVG Training Loss:0.094 || AVG Test Loss:0.137 || AVG Training Acc 96.37 % || AVG Test Acc 93.70 %\n",
      "Epoch:8/10 || AVG Training Loss:0.074 || AVG Test Loss:0.137 || AVG Training Acc 97.48 % || AVG Test Acc 94.43 %\n",
      "Epoch:9/10 || AVG Training Loss:0.066 || AVG Test Loss:0.287 || AVG Training Acc 97.50 % || AVG Test Acc 89.95 %\n",
      "Epoch:10/10 || AVG Training Loss:0.067 || AVG Test Loss:0.139 || AVG Training Acc 97.55 % || AVG Test Acc 94.69 %\n"
     ]
    }
   ],
   "source": [
    "for fold, (train_idx,val_idx) in enumerate(splits.split(np.arange(len(dataset)))):\n",
    "\n",
    "    print('Fold {}'.format(fold + 1))\n",
    "\n",
    "    train_sampler = SubsetRandomSampler(train_idx)\n",
    "    test_sampler = SubsetRandomSampler(val_idx)\n",
    "    train_loader = DataLoader(dataset, batch_size = batch_size, sampler = train_sampler)\n",
    "    test_loader = DataLoader(dataset, batch_size = batch_size, sampler = test_sampler)\n",
    "    \n",
    "    optimizer = optim.SGD(model.parameters(), lr=0.001, momentum=0.9, weight_decay=0.001)\n",
    "\n",
    "    history = {'train_loss': [], 'test_loss': [],'train_acc':[],'test_acc':[]}\n",
    "\n",
    "    for epoch in tqdm(range(num_epochs)):\n",
    "        train_loss, train_correct=train_epoch(model, device, train_loader, criterion, optimizer)\n",
    "        test_loss, test_correct=valid_epoch(model, device, test_loader, criterion)\n",
    "\n",
    "        train_loss = train_loss / len(train_loader.sampler)\n",
    "        train_acc = train_correct / len(train_loader.sampler) * 100\n",
    "        test_loss = test_loss / len(test_loader.sampler)\n",
    "        test_acc = test_correct / len(test_loader.sampler) * 100\n",
    "\n",
    "        print(\"Epoch:{}/{} || AVG Training Loss:{:.3f} || AVG Test Loss:{:.3f} || AVG Training Acc {:.2f} % || AVG Test Acc {:.2f} %\".format(epoch + 1,\n",
    "                                                                                                             num_epochs,\n",
    "                                                                                                             train_loss,\n",
    "                                                                                                             test_loss,\n",
    "                                                                                                             train_acc,\n",
    "                                                                                                             test_acc))\n",
    "        history['train_loss'].append(train_loss)\n",
    "        history['test_loss'].append(test_loss)\n",
    "        history['train_acc'].append(train_acc)\n",
    "        history['test_acc'].append(test_acc)\n",
    "\n",
    "    foldperf['fold{}'.format(fold+1)] = history\n",
    "    \n",
    "torch.save(model,'melanoma_CNN.pt') "
   ]
  },
  {
   "cell_type": "code",
   "execution_count": 18,
   "metadata": {
    "id": "JwWgpX5ic0aT"
   },
   "outputs": [
    {
     "name": "stdout",
     "output_type": "stream",
     "text": [
      "Testing Accuracy: 92.2%\n",
      "Confusion Matrix:\n",
      " tensor([[485.,  15.],\n",
      "        [ 63., 437.]])\n"
     ]
    }
   ],
   "source": [
    "nb_classes = 2\n",
    "\n",
    "test_loader = torch.utils.data.DataLoader(test_set, batch_size=batch_size, \n",
    "                                          shuffle=True, num_workers=2)\n",
    "\n",
    "confusion_matrix = torch.zeros(nb_classes, nb_classes)\n",
    "with torch.no_grad():\n",
    "    test_running_corrects = 0.0\n",
    "    test_total = 0.0\n",
    "    model.eval()\n",
    "    for i, (test_inputs, test_labels) in enumerate(test_loader, 0):\n",
    "        test_inputs, test_labels = test_inputs, test_labels\n",
    "\n",
    "        test_outputs = model(test_inputs)\n",
    "        _, test_outputs = torch.max(test_outputs, 1)\n",
    "        \n",
    "        test_total += test_labels.size(0)\n",
    "        test_running_corrects += (test_outputs == test_labels).sum().item()\n",
    "        \n",
    "        for t, p in zip(test_labels.view(-1), test_outputs.view(-1)):\n",
    "            confusion_matrix[t.long(), p.long()] += 1\n",
    "        \n",
    "        \n",
    "    print(f'Testing Accuracy: {(100 * test_running_corrects / test_total)}%')\n",
    "print(f'Confusion Matrix:\\n {confusion_matrix}')"
   ]
  },
  {
   "cell_type": "code",
   "execution_count": 19,
   "metadata": {},
   "outputs": [
    {
     "data": {
      "text/plain": [
       "tensor([[485.,  15.],\n",
       "        [ 63., 437.]])"
      ]
     },
     "execution_count": 19,
     "metadata": {},
     "output_type": "execute_result"
    }
   ],
   "source": [
    "confusion_matrix"
   ]
  },
  {
   "cell_type": "code",
   "execution_count": 21,
   "metadata": {},
   "outputs": [],
   "source": [
    "cm = confusion_matrix.numpy()"
   ]
  },
  {
   "cell_type": "code",
   "execution_count": 22,
   "metadata": {},
   "outputs": [
    {
     "data": {
      "text/plain": [
       "(485.0, 15.0, 63.0, 437.0)"
      ]
     },
     "execution_count": 22,
     "metadata": {},
     "output_type": "execute_result"
    }
   ],
   "source": [
    "tn, fp, fn, tp = cm.ravel()\n",
    "(tn, fp, fn, tp)"
   ]
  },
  {
   "cell_type": "code",
   "execution_count": 23,
   "metadata": {},
   "outputs": [
    {
     "data": {
      "text/plain": [
       "<AxesSubplot:>"
      ]
     },
     "execution_count": 23,
     "metadata": {},
     "output_type": "execute_result"
    },
    {
     "data": {
      "image/png": "[encoded data removed]",
      "text/plain": [
       "<Figure size 640x480 with 2 Axes>"
      ]
     },
     "metadata": {},
     "output_type": "display_data"
    }
   ],
   "source": [
    "sns.heatmap(confusion_matrix, annot=True)"
   ]
  },
  {
   "cell_type": "code",
   "execution_count": 24,
   "metadata": {},
   "outputs": [
    {
     "name": "stdout",
     "output_type": "stream",
     "text": [
      "Accuracy is:  0.922\n",
      "False Negative Rate is:  0.126\n",
      "Precision is :  0.96681416\n",
      "Recall is :  0.874\n"
     ]
    }
   ],
   "source": [
    "acc = (tp+tn)/(tp+tn+fn+fp)\n",
    "print(\"Accuracy is: \", acc)\n",
    "\n",
    "fnr = fn/(tp+fn)\n",
    "print(\"False Negative Rate is: \", fnr)\n",
    "\n",
    "precision = tp/(tp+fp)\n",
    "print(\"Precision is : \", precision)\n",
    "\n",
    "recall = tp/(tp+fn)\n",
    "print(\"Recall is : \", recall)"
   ]
  },
  {
   "cell_type": "code",
   "execution_count": 27,
   "metadata": {},
   "outputs": [
    {
     "data": {
      "text/plain": [
       "AlexNet(\n",
       "  (features): Sequential(\n",
       "    (0): Conv2d(3, 96, kernel_size=(11, 11), stride=(4, 4), padding=(2, 2))\n",
       "    (1): ReLU(inplace=True)\n",
       "    (2): MaxPool2d(kernel_size=3, stride=2, padding=0, dilation=1, ceil_mode=False)\n",
       "    (3): Conv2d(96, 256, kernel_size=(5, 5), stride=(1, 1), padding=(2, 2))\n",
       "    (4): ReLU(inplace=True)\n",
       "    (5): MaxPool2d(kernel_size=3, stride=2, padding=0, dilation=1, ceil_mode=False)\n",
       "    (6): Conv2d(256, 512, kernel_size=(3, 3), stride=(1, 1), padding=(1, 1))\n",
       "    (7): ReLU(inplace=True)\n",
       "    (8): MaxPool2d(kernel_size=3, stride=2, padding=0, dilation=1, ceil_mode=False)\n",
       "    (9): Conv2d(512, 512, kernel_size=(3, 3), stride=(1, 1), padding=(1, 1))\n",
       "    (10): ReLU(inplace=True)\n",
       "    (11): Conv2d(512, 256, kernel_size=(3, 3), stride=(1, 1), padding=(1, 1))\n",
       "    (12): ReLU(inplace=True)\n",
       "    (13): MaxPool2d(kernel_size=3, stride=2, padding=0, dilation=1, ceil_mode=False)\n",
       "    (14): AdaptiveAvgPool2d(output_size=(6, 6))\n",
       "  )\n",
       "  (classifier): Sequential(\n",
       "    (0): Linear(in_features=9216, out_features=4096, bias=True)\n",
       "    (1): Dropout(p=0.5, inplace=False)\n",
       "    (2): Linear(in_features=4096, out_features=4096, bias=True)\n",
       "    (3): Dropout(p=0.5, inplace=False)\n",
       "    (4): Linear(in_features=4096, out_features=2, bias=True)\n",
       "  )\n",
       ")"
      ]
     },
     "execution_count": 27,
     "metadata": {},
     "output_type": "execute_result"
    }
   ],
   "source": [
    "model = torch.load(\"/Users/bytedance/Downloads/melanoma_CNN.pt\")\n",
    "model.eval()"
   ]
  },
  {
   "cell_type": "code",
   "execution_count": 39,
   "metadata": {},
   "outputs": [
    {
     "data": {
      "text/plain": [
       "[0.12701475342569843,\n",
       " 0.11983110835966748,\n",
       " 0.10842871410749903,\n",
       " 0.11639262777537433,\n",
       " 0.09474534762830303,\n",
       " 0.11796254592713498,\n",
       " 0.09351241309680568,\n",
       " 0.07419289032143736,\n",
       " 0.06637521488709008,\n",
       " 0.0670731338027056]"
      ]
     },
     "execution_count": 39,
     "metadata": {},
     "output_type": "execute_result"
    }
   ],
   "source": [
    " history['train_loss']"
   ]
  },
  {
   "cell_type": "code",
   "execution_count": 40,
   "metadata": {},
   "outputs": [
    {
     "data": {
      "text/plain": [
       "[<matplotlib.lines.Line2D at 0x7fd304ade490>]"
      ]
     },
     "execution_count": 40,
     "metadata": {},
     "output_type": "execute_result"
    },
    {
     "data": {
      "image/png": "[encoded data removed]",
      "text/plain": [
       "<Figure size 640x480 with 1 Axes>"
      ]
     },
     "metadata": {},
     "output_type": "display_data"
    }
   ],
   "source": [
    "plt.plot(history['train_loss'])"
   ]
  },
  {
   "cell_type": "code",
   "execution_count": 41,
   "metadata": {},
   "outputs": [
    {
     "data": {
      "text/plain": [
       "[<matplotlib.lines.Line2D at 0x7fd2804ab070>]"
      ]
     },
     "execution_count": 41,
     "metadata": {},
     "output_type": "execute_result"
    },
    {
     "data": {
      "image/png": "[encoded data removed]",
      "text/plain": [
       "<Figure size 640x480 with 1 Axes>"
      ]
     },
     "metadata": {},
     "output_type": "display_data"
    }
   ],
   "source": [
    "plt.plot(history['train_acc'])"
   ]
  },
  {
   "cell_type": "code",
   "execution_count": null,
   "metadata": {},
   "outputs": [],
   "source": []
  }
 ],
 "metadata": {
  "colab": {
   "provenance": []
  },
  "kernelspec": {
   "display_name": "Python 3 (ipykernel)",
   "language": "python",
   "name": "python3"
  },
  "language_info": {
   "codemirror_mode": {
    "name": "ipython",
    "version": 3
   },
   "file_extension": ".py",
   "mimetype": "text/x-python",
   "name": "python",
   "nbconvert_exporter": "python",
   "pygments_lexer": "ipython3",
   "version": "3.9.12"
  },
  "widgets": {
   "application/vnd.jupyter.widget-state+json": {
    "3bd3f7eaf0384f0bbacbfde8d4558def": {
     "model_module": "@jupyter-widgets/controls",
     "model_module_version": "1.5.0",
     "model_name": "ProgressStyleModel",
     "state": {
      "_model_module": "@jupyter-widgets/controls",
      "_model_module_version": "1.5.0",
      "_model_name": "ProgressStyleModel",
      "_view_count": null,
      "_view_module": "@jupyter-widgets/base",
      "_view_module_version": "1.2.0",
      "_view_name": "StyleView",
      "bar_color": null,
      "description_width": ""
     }
    },
    "59ddca001af44475a474c012f1a71ee4": {
     "model_module": "@jupyter-widgets/controls",
     "model_module_version": "1.5.0",
     "model_name": "HTMLModel",
     "state": {
      "_dom_classes": [],
      "_model_module": "@jupyter-widgets/controls",
      "_model_module_version": "1.5.0",
      "_model_name": "HTMLModel",
      "_view_count": null,
      "_view_module": "@jupyter-widgets/controls",
      "_view_module_version": "1.5.0",
      "_view_name": "HTMLView",
      "description": "",
      "description_tooltip": null,
      "layout": "IPY_MODEL_d6c7cc908221479cb09445436f77dfe6",
      "placeholder": "​",
      "style": "IPY_MODEL_a870bf446a43469a8d678aea37bf1715",
      "value": "  0%"
     }
    },
    "a870bf446a43469a8d678aea37bf1715": {
     "model_module": "@jupyter-widgets/controls",
     "model_module_version": "1.5.0",
     "model_name": "DescriptionStyleModel",
     "state": {
      "_model_module": "@jupyter-widgets/controls",
      "_model_module_version": "1.5.0",
      "_model_name": "DescriptionStyleModel",
      "_view_count": null,
      "_view_module": "@jupyter-widgets/base",
      "_view_module_version": "1.2.0",
      "_view_name": "StyleView",
      "description_width": ""
     }
    },
    "bce0a6faaac141c6bd9f839674e2e44b": {
     "model_module": "@jupyter-widgets/controls",
     "model_module_version": "1.5.0",
     "model_name": "FloatProgressModel",
     "state": {
      "_dom_classes": [],
      "_model_module": "@jupyter-widgets/controls",
      "_model_module_version": "1.5.0",
      "_model_name": "FloatProgressModel",
      "_view_count": null,
      "_view_module": "@jupyter-widgets/controls",
      "_view_module_version": "1.5.0",
      "_view_name": "ProgressView",
      "bar_style": "",
      "description": "",
      "description_tooltip": null,
      "layout": "IPY_MODEL_e8f72e90696d43f3a02b7ddc15cedc4e",
      "max": 30,
      "min": 0,
      "orientation": "horizontal",
      "style": "IPY_MODEL_3bd3f7eaf0384f0bbacbfde8d4558def",
      "value": 0
     }
    },
    "bd4d08b77b094169a649ed83fa6f5a9c": {
     "model_module": "@jupyter-widgets/base",
     "model_module_version": "1.2.0",
     "model_name": "LayoutModel",
     "state": {
      "_model_module": "@jupyter-widgets/base",
      "_model_module_version": "1.2.0",
      "_model_name": "LayoutModel",
      "_view_count": null,
      "_view_module": "@jupyter-widgets/base",
      "_view_module_version": "1.2.0",
      "_view_name": "LayoutView",
      "align_content": null,
      "align_items": null,
      "align_self": null,
      "border": null,
      "bottom": null,
      "display": null,
      "flex": null,
      "flex_flow": null,
      "grid_area": null,
      "grid_auto_columns": null,
      "grid_auto_flow": null,
      "grid_auto_rows": null,
      "grid_column": null,
      "grid_gap": null,
      "grid_row": null,
      "grid_template_areas": null,
      "grid_template_columns": null,
      "grid_template_rows": null,
      "height": null,
      "justify_content": null,
      "justify_items": null,
      "left": null,
      "margin": null,
      "max_height": null,
      "max_width": null,
      "min_height": null,
      "min_width": null,
      "object_fit": null,
      "object_position": null,
      "order": null,
      "overflow": null,
      "overflow_x": null,
      "overflow_y": null,
      "padding": null,
      "right": null,
      "top": null,
      "visibility": null,
      "width": null
     }
    },
    "c5e5dad77302415fb979cd0db76a3bf3": {
     "model_module": "@jupyter-widgets/base",
     "model_module_version": "1.2.0",
     "model_name": "LayoutModel",
     "state": {
      "_model_module": "@jupyter-widgets/base",
      "_model_module_version": "1.2.0",
      "_model_name": "LayoutModel",
      "_view_count": null,
      "_view_module": "@jupyter-widgets/base",
      "_view_module_version": "1.2.0",
      "_view_name": "LayoutView",
      "align_content": null,
      "align_items": null,
      "align_self": null,
      "border": null,
      "bottom": null,
      "display": null,
      "flex": null,
      "flex_flow": null,
      "grid_area": null,
      "grid_auto_columns": null,
      "grid_auto_flow": null,
      "grid_auto_rows": null,
      "grid_column": null,
      "grid_gap": null,
      "grid_row": null,
      "grid_template_areas": null,
      "grid_template_columns": null,
      "grid_template_rows": null,
      "height": null,
      "justify_content": null,
      "justify_items": null,
      "left": null,
      "margin": null,
      "max_height": null,
      "max_width": null,
      "min_height": null,
      "min_width": null,
      "object_fit": null,
      "object_position": null,
      "order": null,
      "overflow": null,
      "overflow_x": null,
      "overflow_y": null,
      "padding": null,
      "right": null,
      "top": null,
      "visibility": null,
      "width": null
     }
    },
    "cd89f6fb10ad4004b53b8b60654f02a0": {
     "model_module": "@jupyter-widgets/controls",
     "model_module_version": "1.5.0",
     "model_name": "HBoxModel",
     "state": {
      "_dom_classes": [],
      "_model_module": "@jupyter-widgets/controls",
      "_model_module_version": "1.5.0",
      "_model_name": "HBoxModel",
      "_view_count": null,
      "_view_module": "@jupyter-widgets/controls",
      "_view_module_version": "1.5.0",
      "_view_name": "HBoxView",
      "box_style": "",
      "children": [
       "IPY_MODEL_59ddca001af44475a474c012f1a71ee4",
       "IPY_MODEL_bce0a6faaac141c6bd9f839674e2e44b",
       "IPY_MODEL_f7d89f8f42c042e2a1bce8e997047ffb"
      ],
      "layout": "IPY_MODEL_c5e5dad77302415fb979cd0db76a3bf3"
     }
    },
    "d35c8e84f2714196bf462b0e98b2f078": {
     "model_module": "@jupyter-widgets/controls",
     "model_module_version": "1.5.0",
     "model_name": "DescriptionStyleModel",
     "state": {
      "_model_module": "@jupyter-widgets/controls",
      "_model_module_version": "1.5.0",
      "_model_name": "DescriptionStyleModel",
      "_view_count": null,
      "_view_module": "@jupyter-widgets/base",
      "_view_module_version": "1.2.0",
      "_view_name": "StyleView",
      "description_width": ""
     }
    },
    "d6c7cc908221479cb09445436f77dfe6": {
     "model_module": "@jupyter-widgets/base",
     "model_module_version": "1.2.0",
     "model_name": "LayoutModel",
     "state": {
      "_model_module": "@jupyter-widgets/base",
      "_model_module_version": "1.2.0",
      "_model_name": "LayoutModel",
      "_view_count": null,
      "_view_module": "@jupyter-widgets/base",
      "_view_module_version": "1.2.0",
      "_view_name": "LayoutView",
      "align_content": null,
      "align_items": null,
      "align_self": null,
      "border": null,
      "bottom": null,
      "display": null,
      "flex": null,
      "flex_flow": null,
      "grid_area": null,
      "grid_auto_columns": null,
      "grid_auto_flow": null,
      "grid_auto_rows": null,
      "grid_column": null,
      "grid_gap": null,
      "grid_row": null,
      "grid_template_areas": null,
      "grid_template_columns": null,
      "grid_template_rows": null,
      "height": null,
      "justify_content": null,
      "justify_items": null,
      "left": null,
      "margin": null,
      "max_height": null,
      "max_width": null,
      "min_height": null,
      "min_width": null,
      "object_fit": null,
      "object_position": null,
      "order": null,
      "overflow": null,
      "overflow_x": null,
      "overflow_y": null,
      "padding": null,
      "right": null,
      "top": null,
      "visibility": null,
      "width": null
     }
    },
    "e8f72e90696d43f3a02b7ddc15cedc4e": {
     "model_module": "@jupyter-widgets/base",
     "model_module_version": "1.2.0",
     "model_name": "LayoutModel",
     "state": {
      "_model_module": "@jupyter-widgets/base",
      "_model_module_version": "1.2.0",
      "_model_name": "LayoutModel",
      "_view_count": null,
      "_view_module": "@jupyter-widgets/base",
      "_view_module_version": "1.2.0",
      "_view_name": "LayoutView",
      "align_content": null,
      "align_items": null,
      "align_self": null,
      "border": null,
      "bottom": null,
      "display": null,
      "flex": null,
      "flex_flow": null,
      "grid_area": null,
      "grid_auto_columns": null,
      "grid_auto_flow": null,
      "grid_auto_rows": null,
      "grid_column": null,
      "grid_gap": null,
      "grid_row": null,
      "grid_template_areas": null,
      "grid_template_columns": null,
      "grid_template_rows": null,
      "height": null,
      "justify_content": null,
      "justify_items": null,
      "left": null,
      "margin": null,
      "max_height": null,
      "max_width": null,
      "min_height": null,
      "min_width": null,
      "object_fit": null,
      "object_position": null,
      "order": null,
      "overflow": null,
      "overflow_x": null,
      "overflow_y": null,
      "padding": null,
      "right": null,
      "top": null,
      "visibility": null,
      "width": null
     }
    },
    "f7d89f8f42c042e2a1bce8e997047ffb": {
     "model_module": "@jupyter-widgets/controls",
     "model_module_version": "1.5.0",
     "model_name": "HTMLModel",
     "state": {
      "_dom_classes": [],
      "_model_module": "@jupyter-widgets/controls",
      "_model_module_version": "1.5.0",
      "_model_name": "HTMLModel",
      "_view_count": null,
      "_view_module": "@jupyter-widgets/controls",
      "_view_module_version": "1.5.0",
      "_view_name": "HTMLView",
      "description": "",
      "description_tooltip": null,
      "layout": "IPY_MODEL_bd4d08b77b094169a649ed83fa6f5a9c",
      "placeholder": "​",
      "style": "IPY_MODEL_d35c8e84f2714196bf462b0e98b2f078",
      "value": " 0/30 [00:00&lt;?, ?it/s]"
     }
    }
   }
  }
 },
 "nbformat": 4,
 "nbformat_minor": 1
}
