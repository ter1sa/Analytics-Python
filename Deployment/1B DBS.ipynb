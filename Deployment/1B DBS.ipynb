{
 "cells": [
  {
   "cell_type": "code",
   "execution_count": 1,
   "metadata": {},
   "outputs": [],
   "source": [
    "import pandas as pd"
   ]
  },
  {
   "cell_type": "code",
   "execution_count": 2,
   "metadata": {},
   "outputs": [],
   "source": [
    "df = pd.read_csv(\"/Users/teresazhang/Documents/NTU/Y3S1/BC3409/Week 1/DBS_SingDollar.csv\")"
   ]
  },
  {
   "cell_type": "code",
   "execution_count": 3,
   "metadata": {},
   "outputs": [],
   "source": [
    "X = df.loc[:,[\"SGD\"]]\n",
    "Y = df[\"DBS\"]"
   ]
  },
  {
   "cell_type": "markdown",
   "metadata": {},
   "source": [
    "## Linear Regression"
   ]
  },
  {
   "cell_type": "code",
   "execution_count": 4,
   "metadata": {},
   "outputs": [],
   "source": [
    "from sklearn.metrics import mean_squared_error"
   ]
  },
  {
   "cell_type": "code",
   "execution_count": 5,
   "metadata": {},
   "outputs": [],
   "source": [
    "from sklearn import linear_model"
   ]
  },
  {
   "cell_type": "code",
   "execution_count": 6,
   "metadata": {},
   "outputs": [],
   "source": [
    "model = linear_model.LinearRegression()"
   ]
  },
  {
   "cell_type": "code",
   "execution_count": 7,
   "metadata": {},
   "outputs": [
    {
     "data": {
      "text/plain": [
       "LinearRegression()"
      ]
     },
     "execution_count": 7,
     "metadata": {},
     "output_type": "execute_result"
    }
   ],
   "source": [
    "model.fit(X,Y)"
   ]
  },
  {
   "cell_type": "code",
   "execution_count": 8,
   "metadata": {},
   "outputs": [
    {
     "data": {
      "text/plain": [
       "array([-50.60094302])"
      ]
     },
     "execution_count": 8,
     "metadata": {},
     "output_type": "execute_result"
    }
   ],
   "source": [
    "model.coef_"
   ]
  },
  {
   "cell_type": "code",
   "execution_count": 9,
   "metadata": {},
   "outputs": [
    {
     "data": {
      "text/plain": [
       "90.22858514803667"
      ]
     },
     "execution_count": 9,
     "metadata": {},
     "output_type": "execute_result"
    }
   ],
   "source": [
    "model.intercept_"
   ]
  },
  {
   "cell_type": "code",
   "execution_count": 10,
   "metadata": {},
   "outputs": [],
   "source": [
    "pred = model.predict(X)"
   ]
  },
  {
   "cell_type": "code",
   "execution_count": 11,
   "metadata": {},
   "outputs": [
    {
     "data": {
      "text/plain": [
       "array([19.93122506, 20.04153512, 20.23533673, 20.20801222, 20.6042176 ,\n",
       "       20.31225016, 20.18473578, 20.196374  , 20.26266124, 20.30466002,\n",
       "       20.43723449, 20.3198403 , 20.3466588 , 20.06885962, 20.23736076,\n",
       "       20.13109878, 20.06278751, 20.36335711, 20.0784738 , 20.17107353,\n",
       "       19.8958044 , 20.07442573, 20.13464085, 19.74298955, 19.90288853,\n",
       "       19.65342588, 19.51427329, 19.18789721, 19.00978189, 18.81648629,\n",
       "       19.08163523, 19.13628424, 19.35235027, 19.52692353, 19.70149678,\n",
       "       19.51933338, 19.53400766, 19.59068071, 19.68479847, 19.76120589,\n",
       "       19.56183818, 19.50263507, 19.47784061, 19.59776485, 19.49150286,\n",
       "       19.48897282, 19.56285019, 19.18283711, 19.1443804 , 19.14741645,\n",
       "       19.28049693, 19.35336229, 19.47986465, 19.53400766, 19.56993433,\n",
       "       19.5041531 , 19.68732851, 19.55070597, 19.69238861, 19.44545601,\n",
       "       19.40244521, 19.4611423 , 19.42066154, 19.54513986, 19.28555703,\n",
       "       19.32603778, 19.27391881, 18.58169791, 18.63988899, 18.79371586,\n",
       "       18.30845282, 18.4951703 , 18.81294422, 18.76234328, 18.86253314,\n",
       "       18.77347548, 18.92831437, 19.13426021, 19.17018688, 19.16107871,\n",
       "       19.00117973, 18.71781445, 18.35247564, 18.47999001, 18.425341  ,\n",
       "       18.54779528, 18.42281095, 18.37777611, 18.16474614, 18.34589751,\n",
       "       18.34184944, 18.5437472 , 18.44760541, 18.92325427, 19.00978189,\n",
       "       18.81142619, 18.75778919, 18.90453193, 17.77916695, 18.07720651,\n",
       "       18.7370428 , 18.31604296, 18.57866185, 18.01850941, 18.06354425,\n",
       "       17.9319818 , 18.57714382, 17.85405635, 18.07568848, 18.0068712 ,\n",
       "       18.03217167, 17.53830646, 17.60155764, 17.39459979, 17.94665607,\n",
       "       17.39257575, 16.86126585, 17.03179102, 16.95133553, 16.8481096 ,\n",
       "       16.88049421, 16.97562398])"
      ]
     },
     "execution_count": 11,
     "metadata": {},
     "output_type": "execute_result"
    }
   ],
   "source": [
    "pred"
   ]
  },
  {
   "cell_type": "code",
   "execution_count": 12,
   "metadata": {},
   "outputs": [
    {
     "name": "stdout",
     "output_type": "stream",
     "text": [
      "rmse is 0.6283698867042149\n"
     ]
    }
   ],
   "source": [
    "print(\"rmse is\", mean_squared_error(Y,pred)**0.5)"
   ]
  },
  {
   "cell_type": "markdown",
   "metadata": {},
   "source": [
    "#### save in the same folder"
   ]
  },
  {
   "cell_type": "code",
   "execution_count": 13,
   "metadata": {},
   "outputs": [],
   "source": [
    "import joblib"
   ]
  },
  {
   "cell_type": "code",
   "execution_count": 14,
   "metadata": {},
   "outputs": [
    {
     "data": {
      "text/plain": [
       "['regression']"
      ]
     },
     "execution_count": 14,
     "metadata": {},
     "output_type": "execute_result"
    }
   ],
   "source": [
    "joblib.dump(model,\"regression\")"
   ]
  },
  {
   "cell_type": "markdown",
   "metadata": {},
   "source": [
    "## Regression Tree"
   ]
  },
  {
   "cell_type": "code",
   "execution_count": 15,
   "metadata": {},
   "outputs": [],
   "source": [
    "from sklearn import tree"
   ]
  },
  {
   "cell_type": "code",
   "execution_count": 16,
   "metadata": {},
   "outputs": [],
   "source": [
    "model = tree.DecisionTreeRegressor()"
   ]
  },
  {
   "cell_type": "code",
   "execution_count": 17,
   "metadata": {},
   "outputs": [
    {
     "data": {
      "text/plain": [
       "DecisionTreeRegressor()"
      ]
     },
     "execution_count": 17,
     "metadata": {},
     "output_type": "execute_result"
    }
   ],
   "source": [
    "model.fit(X,Y)"
   ]
  },
  {
   "cell_type": "code",
   "execution_count": 18,
   "metadata": {},
   "outputs": [],
   "source": [
    "pred = model.predict(X)"
   ]
  },
  {
   "cell_type": "code",
   "execution_count": 19,
   "metadata": {
    "scrolled": false
   },
   "outputs": [
    {
     "name": "stdout",
     "output_type": "stream",
     "text": [
      "rmse is 0.16306113708124784\n"
     ]
    }
   ],
   "source": [
    "print(\"rmse is\", mean_squared_error(Y,pred)**0.5)"
   ]
  },
  {
   "cell_type": "markdown",
   "metadata": {},
   "source": [
    "#### save in the same folder"
   ]
  },
  {
   "cell_type": "code",
   "execution_count": 20,
   "metadata": {},
   "outputs": [
    {
     "data": {
      "text/plain": [
       "['tree']"
      ]
     },
     "execution_count": 20,
     "metadata": {},
     "output_type": "execute_result"
    }
   ],
   "source": [
    "joblib.dump(model,\"tree\")"
   ]
  },
  {
   "cell_type": "code",
   "execution_count": null,
   "metadata": {},
   "outputs": [],
   "source": []
  }
 ],
 "metadata": {
  "kernelspec": {
   "display_name": "Python 3",
   "language": "python",
   "name": "python3"
  },
  "language_info": {
   "codemirror_mode": {
    "name": "ipython",
    "version": 3
   },
   "file_extension": ".py",
   "mimetype": "text/x-python",
   "name": "python",
   "nbconvert_exporter": "python",
   "pygments_lexer": "ipython3",
   "version": "3.8.5"
  }
 },
 "nbformat": 4,
 "nbformat_minor": 4
}
